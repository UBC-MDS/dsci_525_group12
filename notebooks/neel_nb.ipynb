{
 "cells": [
  {
   "cell_type": "code",
   "execution_count": 8,
   "id": "published-default",
   "metadata": {},
   "outputs": [],
   "source": [
    "import re\n",
    "import os\n",
    "import glob\n",
    "import zipfile\n",
    "import requests\n",
    "from urllib.request import urlretrieve\n",
    "import json\n",
    "import pandas as pd\n",
    "from memory_profiler import memory_usage"
   ]
  },
  {
   "cell_type": "code",
   "execution_count": 12,
   "id": "religious-brother",
   "metadata": {},
   "outputs": [],
   "source": [
    "%load_ext rpy2.ipython\n",
    "%load_ext memory_profiler"
   ]
  },
  {
   "cell_type": "markdown",
   "id": "distinguished-sound",
   "metadata": {},
   "source": [
    "### Download and unzip the data"
   ]
  },
  {
   "cell_type": "code",
   "execution_count": 9,
   "id": "pleasant-participant",
   "metadata": {},
   "outputs": [],
   "source": [
    "article_id = 14096681  # this is the unique identifier of the article on figshare\n",
    "url = f\"https://api.figshare.com/v2/articles/{article_id}\"\n",
    "headers = {\"Content-Type\": \"application/json\"}\n",
    "output_directory = \"daily_rain/\""
   ]
  },
  {
   "cell_type": "code",
   "execution_count": 13,
   "id": "extensive-launch",
   "metadata": {},
   "outputs": [
    {
     "name": "stdout",
     "output_type": "stream",
     "text": [
      "peak memory: 1976.04 MiB, increment: 0.26 MiB\n",
      "CPU times: user 98.9 ms, sys: 132 ms, total: 231 ms\n",
      "Wall time: 4.52 s\n"
     ]
    },
    {
     "data": {
      "text/plain": [
       "[{'is_link_only': False,\n",
       "  'name': 'daily_rainfall_2014.png',\n",
       "  'supplied_md5': 'fd32a2ffde300a31f8d63b1825d47e5e',\n",
       "  'computed_md5': 'fd32a2ffde300a31f8d63b1825d47e5e',\n",
       "  'id': 26579150,\n",
       "  'download_url': 'https://ndownloader.figshare.com/files/26579150',\n",
       "  'size': 58863},\n",
       " {'is_link_only': False,\n",
       "  'name': 'environment.yml',\n",
       "  'supplied_md5': '060b2020017eed93a1ee7dd8c65b2f34',\n",
       "  'computed_md5': '060b2020017eed93a1ee7dd8c65b2f34',\n",
       "  'id': 26579171,\n",
       "  'download_url': 'https://ndownloader.figshare.com/files/26579171',\n",
       "  'size': 192},\n",
       " {'is_link_only': False,\n",
       "  'name': 'README.md',\n",
       "  'supplied_md5': '61858c6cc0e6a6d6663a7e4c75bbd88c',\n",
       "  'computed_md5': '61858c6cc0e6a6d6663a7e4c75bbd88c',\n",
       "  'id': 26586554,\n",
       "  'download_url': 'https://ndownloader.figshare.com/files/26586554',\n",
       "  'size': 5422},\n",
       " {'is_link_only': False,\n",
       "  'name': 'data.zip',\n",
       "  'supplied_md5': 'b517383f76e77bd03755a63a8ff83ee9',\n",
       "  'computed_md5': 'b517383f76e77bd03755a63a8ff83ee9',\n",
       "  'id': 26766812,\n",
       "  'download_url': 'https://ndownloader.figshare.com/files/26766812',\n",
       "  'size': 814041183},\n",
       " {'is_link_only': False,\n",
       "  'name': 'get_data.py',\n",
       "  'supplied_md5': '7829028495fd9dec9680ea013474afa6',\n",
       "  'computed_md5': '7829028495fd9dec9680ea013474afa6',\n",
       "  'id': 26766815,\n",
       "  'download_url': 'https://ndownloader.figshare.com/files/26766815',\n",
       "  'size': 4113}]"
      ]
     },
     "execution_count": 13,
     "metadata": {},
     "output_type": "execute_result"
    }
   ],
   "source": [
    "%%time\n",
    "%memit\n",
    "response = requests.request(\"GET\", url, headers=headers)\n",
    "data = json.loads(response.text)  # this contains all the articles data, feel free to check it out\n",
    "files = data[\"files\"]             # this is just the data about the files, which is what we want\n",
    "files"
   ]
  },
  {
   "cell_type": "code",
   "execution_count": 14,
   "id": "prostate-spine",
   "metadata": {},
   "outputs": [
    {
     "name": "stdout",
     "output_type": "stream",
     "text": [
      "peak memory: 1979.29 MiB, increment: 0.03 MiB\n",
      "CPU times: user 4.41 s, sys: 3.88 s, total: 8.29 s\n",
      "Wall time: 1min 9s\n"
     ]
    }
   ],
   "source": [
    "%%time\n",
    "%memit\n",
    "files_to_dl = [\"data.zip\"] \n",
    "for file in files:\n",
    "    if file[\"name\"] in files_to_dl:\n",
    "        os.makedirs(output_directory, exist_ok=True)\n",
    "        urlretrieve(file[\"download_url\"], output_directory + file[\"name\"])"
   ]
  },
  {
   "cell_type": "code",
   "execution_count": 16,
   "id": "narrative-invention",
   "metadata": {},
   "outputs": [
    {
     "name": "stdout",
     "output_type": "stream",
     "text": [
      "peak memory: 859.73 MiB, increment: 0.01 MiB\n",
      "CPU times: user 15.7 s, sys: 2.29 s, total: 18 s\n",
      "Wall time: 21.7 s\n"
     ]
    }
   ],
   "source": [
    "%%time\n",
    "%memit\n",
    "with zipfile.ZipFile(os.path.join(output_directory, \"data.zip\"), 'r') as f:\n",
    "    f.extractall(output_directory)"
   ]
  },
  {
   "cell_type": "markdown",
   "id": "religious-canberra",
   "metadata": {},
   "source": [
    "### Combine csv files"
   ]
  },
  {
   "cell_type": "code",
   "execution_count": 4,
   "id": "compliant-suspect",
   "metadata": {},
   "outputs": [],
   "source": [
    "df = pd.read_csv(\"daily_rain/ACCESS-CM2_daily_rainfall_NSW.csv\", dtype={'TailNum': 'str'})"
   ]
  },
  {
   "cell_type": "code",
   "execution_count": 8,
   "id": "grateful-closure",
   "metadata": {},
   "outputs": [
    {
     "data": {
      "text/plain": [
       "Index(['time', 'lat_min', 'lat_max', 'lon_min', 'lon_max', 'rain (mm/day)'], dtype='object')"
      ]
     },
     "execution_count": 8,
     "metadata": {},
     "output_type": "execute_result"
    }
   ],
   "source": [
    "df.columns"
   ]
  },
  {
   "cell_type": "code",
   "execution_count": null,
   "id": "julian-acquisition",
   "metadata": {},
   "outputs": [],
   "source": [
    "%%time\n",
    "%memit\n",
    "# Shows time that regular python takes to merge file\n",
    "# Join all data together\n",
    "## here we are using a normal python way of merging the data \n",
    "import pandas as pd\n",
    "use_cols = ['time', 'rain (mm/day)']\n",
    "files = glob.glob('daily_rain/*.csv')\n",
    "df = pd.concat((pd.read_csv(file, index_col=0, usecols=use_cols)\n",
    "                .assign(year=re.findall(r'[^\\/]+(?=\\.)', file)[0])\n",
    "                for file in files)\n",
    "              )\n",
    "df.to_csv(\"daily_rain/combined_data.csv\")"
   ]
  },
  {
   "cell_type": "code",
   "execution_count": 6,
   "id": "temporal-baseline",
   "metadata": {},
   "outputs": [],
   "source": [
    "df = pd.read_csv(\"daily_rain/combined_data.csv\", dtype={'TailNum': 'str'})"
   ]
  },
  {
   "cell_type": "code",
   "execution_count": 7,
   "id": "stone-positive",
   "metadata": {},
   "outputs": [
    {
     "data": {
      "text/html": [
       "<div>\n",
       "<style scoped>\n",
       "    .dataframe tbody tr th:only-of-type {\n",
       "        vertical-align: middle;\n",
       "    }\n",
       "\n",
       "    .dataframe tbody tr th {\n",
       "        vertical-align: top;\n",
       "    }\n",
       "\n",
       "    .dataframe thead th {\n",
       "        text-align: right;\n",
       "    }\n",
       "</style>\n",
       "<table border=\"1\" class=\"dataframe\">\n",
       "  <thead>\n",
       "    <tr style=\"text-align: right;\">\n",
       "      <th></th>\n",
       "      <th>time</th>\n",
       "      <th>rain (mm/day)</th>\n",
       "      <th>year</th>\n",
       "    </tr>\n",
       "  </thead>\n",
       "  <tbody>\n",
       "    <tr>\n",
       "      <th>0</th>\n",
       "      <td>1889-01-01 12:00:00</td>\n",
       "      <td>4.244226e-13</td>\n",
       "      <td>MPI-ESM-1-2-HAM_daily_rainfall_NSW</td>\n",
       "    </tr>\n",
       "    <tr>\n",
       "      <th>1</th>\n",
       "      <td>1889-01-02 12:00:00</td>\n",
       "      <td>4.217326e-13</td>\n",
       "      <td>MPI-ESM-1-2-HAM_daily_rainfall_NSW</td>\n",
       "    </tr>\n",
       "    <tr>\n",
       "      <th>2</th>\n",
       "      <td>1889-01-03 12:00:00</td>\n",
       "      <td>4.498125e-13</td>\n",
       "      <td>MPI-ESM-1-2-HAM_daily_rainfall_NSW</td>\n",
       "    </tr>\n",
       "    <tr>\n",
       "      <th>3</th>\n",
       "      <td>1889-01-04 12:00:00</td>\n",
       "      <td>4.251282e-13</td>\n",
       "      <td>MPI-ESM-1-2-HAM_daily_rainfall_NSW</td>\n",
       "    </tr>\n",
       "    <tr>\n",
       "      <th>4</th>\n",
       "      <td>1889-01-05 12:00:00</td>\n",
       "      <td>4.270161e-13</td>\n",
       "      <td>MPI-ESM-1-2-HAM_daily_rainfall_NSW</td>\n",
       "    </tr>\n",
       "    <tr>\n",
       "      <th>...</th>\n",
       "      <td>...</td>\n",
       "      <td>...</td>\n",
       "      <td>...</td>\n",
       "    </tr>\n",
       "    <tr>\n",
       "      <th>62513858</th>\n",
       "      <td>2014-12-27 12:00:00</td>\n",
       "      <td>6.689683e+00</td>\n",
       "      <td>SAM0-UNICON_daily_rainfall_NSW</td>\n",
       "    </tr>\n",
       "    <tr>\n",
       "      <th>62513859</th>\n",
       "      <td>2014-12-28 12:00:00</td>\n",
       "      <td>7.862555e+00</td>\n",
       "      <td>SAM0-UNICON_daily_rainfall_NSW</td>\n",
       "    </tr>\n",
       "    <tr>\n",
       "      <th>62513860</th>\n",
       "      <td>2014-12-29 12:00:00</td>\n",
       "      <td>1.000503e+01</td>\n",
       "      <td>SAM0-UNICON_daily_rainfall_NSW</td>\n",
       "    </tr>\n",
       "    <tr>\n",
       "      <th>62513861</th>\n",
       "      <td>2014-12-30 12:00:00</td>\n",
       "      <td>8.541592e+00</td>\n",
       "      <td>SAM0-UNICON_daily_rainfall_NSW</td>\n",
       "    </tr>\n",
       "    <tr>\n",
       "      <th>62513862</th>\n",
       "      <td>2014-12-31 12:00:00</td>\n",
       "      <td>6.811749e+01</td>\n",
       "      <td>SAM0-UNICON_daily_rainfall_NSW</td>\n",
       "    </tr>\n",
       "  </tbody>\n",
       "</table>\n",
       "<p>62513863 rows × 3 columns</p>\n",
       "</div>"
      ],
      "text/plain": [
       "                         time  rain (mm/day)  \\\n",
       "0         1889-01-01 12:00:00   4.244226e-13   \n",
       "1         1889-01-02 12:00:00   4.217326e-13   \n",
       "2         1889-01-03 12:00:00   4.498125e-13   \n",
       "3         1889-01-04 12:00:00   4.251282e-13   \n",
       "4         1889-01-05 12:00:00   4.270161e-13   \n",
       "...                       ...            ...   \n",
       "62513858  2014-12-27 12:00:00   6.689683e+00   \n",
       "62513859  2014-12-28 12:00:00   7.862555e+00   \n",
       "62513860  2014-12-29 12:00:00   1.000503e+01   \n",
       "62513861  2014-12-30 12:00:00   8.541592e+00   \n",
       "62513862  2014-12-31 12:00:00   6.811749e+01   \n",
       "\n",
       "                                        year  \n",
       "0         MPI-ESM-1-2-HAM_daily_rainfall_NSW  \n",
       "1         MPI-ESM-1-2-HAM_daily_rainfall_NSW  \n",
       "2         MPI-ESM-1-2-HAM_daily_rainfall_NSW  \n",
       "3         MPI-ESM-1-2-HAM_daily_rainfall_NSW  \n",
       "4         MPI-ESM-1-2-HAM_daily_rainfall_NSW  \n",
       "...                                      ...  \n",
       "62513858      SAM0-UNICON_daily_rainfall_NSW  \n",
       "62513859      SAM0-UNICON_daily_rainfall_NSW  \n",
       "62513860      SAM0-UNICON_daily_rainfall_NSW  \n",
       "62513861      SAM0-UNICON_daily_rainfall_NSW  \n",
       "62513862      SAM0-UNICON_daily_rainfall_NSW  \n",
       "\n",
       "[62513863 rows x 3 columns]"
      ]
     },
     "execution_count": 7,
     "metadata": {},
     "output_type": "execute_result"
    }
   ],
   "source": [
    "df"
   ]
  },
  {
   "cell_type": "code",
   "execution_count": null,
   "id": "intelligent-roman",
   "metadata": {},
   "outputs": [],
   "source": []
  }
 ],
 "metadata": {
  "kernelspec": {
   "display_name": "Python [conda env:525]",
   "language": "python",
   "name": "conda-env-525-py"
  },
  "language_info": {
   "codemirror_mode": {
    "name": "ipython",
    "version": 3
   },
   "file_extension": ".py",
   "mimetype": "text/x-python",
   "name": "python",
   "nbconvert_exporter": "python",
   "pygments_lexer": "ipython3",
   "version": "3.9.2"
  }
 },
 "nbformat": 4,
 "nbformat_minor": 5
}
