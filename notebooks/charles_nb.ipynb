{
 "cells": [
  {
   "cell_type": "markdown",
   "id": "enabling-planning",
   "metadata": {},
   "source": [
    "# Milestone 1: Tackling big data on your laptop"
   ]
  },
  {
   "cell_type": "markdown",
   "id": "negative-median",
   "metadata": {},
   "source": [
    "## Authors: Neel Phaterpekar, Arash Shamseddini and Charles Suresh"
   ]
  },
  {
   "cell_type": "code",
   "execution_count": 1,
   "id": "impossible-puzzle",
   "metadata": {},
   "outputs": [],
   "source": [
    "import requests\n",
    "import json\n",
    "import os\n",
    "from urllib.request import urlretrieve\n",
    "import zipfile\n",
    "import glob\n",
    "import pandas as pd\n",
    "import re\n",
    "from memory_profiler import memory_usage\n",
    "import pyarrow.dataset as ds\n",
    "import pyarrow.feather as feather\n",
    "import pyarrow.parquet as pq\n",
    "import dask.dataframe as dd\n",
    "import seaborn as sns\n",
    "import matplotlib.pyplot as plt\n",
    "import rpy2_arrow.pyarrow_rarrow as pyra"
   ]
  },
  {
   "cell_type": "code",
   "execution_count": 2,
   "id": "thermal-angola",
   "metadata": {},
   "outputs": [],
   "source": [
    "%load_ext rpy2.ipython\n",
    "%load_ext memory_profiler"
   ]
  },
  {
   "cell_type": "code",
   "execution_count": 3,
   "id": "monthly-problem",
   "metadata": {},
   "outputs": [
    {
     "name": "stderr",
     "output_type": "stream",
     "text": [
      "R[write to console]: \n",
      "Attaching package: ‘dplyr’\n",
      "\n",
      "\n",
      "R[write to console]: The following objects are masked from ‘package:stats’:\n",
      "\n",
      "    filter, lag\n",
      "\n",
      "\n",
      "R[write to console]: The following objects are masked from ‘package:base’:\n",
      "\n",
      "    intersect, setdiff, setequal, union\n",
      "\n",
      "\n"
     ]
    }
   ],
   "source": [
    "%%R\n",
    "library(dplyr)\n",
    "library(arrow)"
   ]
  },
  {
   "cell_type": "markdown",
   "id": "north-alcohol",
   "metadata": {},
   "source": [
    "## 1. Downloading the data"
   ]
  },
  {
   "cell_type": "markdown",
   "id": "played-tablet",
   "metadata": {},
   "source": [
    "### 1.1 Download data from figshare"
   ]
  },
  {
   "cell_type": "code",
   "execution_count": 4,
   "id": "going-wilderness",
   "metadata": {},
   "outputs": [],
   "source": [
    "article_id = 14096681  # this is the unique identifier of the article on figshare\n",
    "url = f\"https://api.figshare.com/v2/articles/{article_id}\"\n",
    "headers = {\"Content-Type\": \"application/json\"}\n",
    "output_directory = \"figsharerainfall/\""
   ]
  },
  {
   "cell_type": "code",
   "execution_count": 5,
   "id": "round-passport",
   "metadata": {},
   "outputs": [
    {
     "name": "stdout",
     "output_type": "stream",
     "text": [
      "peak memory: 319.82 MiB, increment: 0.14 MiB\n",
      "CPU times: user 111 ms, sys: 60.2 ms, total: 172 ms\n",
      "Wall time: 3.57 s\n"
     ]
    },
    {
     "data": {
      "text/plain": [
       "[{'is_link_only': False,\n",
       "  'name': 'daily_rainfall_2014.png',\n",
       "  'supplied_md5': 'fd32a2ffde300a31f8d63b1825d47e5e',\n",
       "  'computed_md5': 'fd32a2ffde300a31f8d63b1825d47e5e',\n",
       "  'id': 26579150,\n",
       "  'download_url': 'https://ndownloader.figshare.com/files/26579150',\n",
       "  'size': 58863},\n",
       " {'is_link_only': False,\n",
       "  'name': 'environment.yml',\n",
       "  'supplied_md5': '060b2020017eed93a1ee7dd8c65b2f34',\n",
       "  'computed_md5': '060b2020017eed93a1ee7dd8c65b2f34',\n",
       "  'id': 26579171,\n",
       "  'download_url': 'https://ndownloader.figshare.com/files/26579171',\n",
       "  'size': 192},\n",
       " {'is_link_only': False,\n",
       "  'name': 'README.md',\n",
       "  'supplied_md5': '61858c6cc0e6a6d6663a7e4c75bbd88c',\n",
       "  'computed_md5': '61858c6cc0e6a6d6663a7e4c75bbd88c',\n",
       "  'id': 26586554,\n",
       "  'download_url': 'https://ndownloader.figshare.com/files/26586554',\n",
       "  'size': 5422},\n",
       " {'is_link_only': False,\n",
       "  'name': 'data.zip',\n",
       "  'supplied_md5': 'b517383f76e77bd03755a63a8ff83ee9',\n",
       "  'computed_md5': 'b517383f76e77bd03755a63a8ff83ee9',\n",
       "  'id': 26766812,\n",
       "  'download_url': 'https://ndownloader.figshare.com/files/26766812',\n",
       "  'size': 814041183},\n",
       " {'is_link_only': False,\n",
       "  'name': 'get_data.py',\n",
       "  'supplied_md5': '7829028495fd9dec9680ea013474afa6',\n",
       "  'computed_md5': '7829028495fd9dec9680ea013474afa6',\n",
       "  'id': 26766815,\n",
       "  'download_url': 'https://ndownloader.figshare.com/files/26766815',\n",
       "  'size': 4113}]"
      ]
     },
     "execution_count": 5,
     "metadata": {},
     "output_type": "execute_result"
    }
   ],
   "source": [
    "%%time\n",
    "%memit\n",
    "response = requests.request(\"GET\", url, headers=headers)\n",
    "data = json.loads(response.text)  # this contains all the articles data, feel free to check it out\n",
    "files = data[\"files\"]             # this is just the data about the files, which is what we want\n",
    "files"
   ]
  },
  {
   "cell_type": "code",
   "execution_count": 6,
   "id": "extensive-prince",
   "metadata": {},
   "outputs": [
    {
     "name": "stdout",
     "output_type": "stream",
     "text": [
      "CPU times: user 5.2 s, sys: 4.46 s, total: 9.67 s\n",
      "Wall time: 1min 6s\n"
     ]
    }
   ],
   "source": [
    "%%time\n",
    "files_to_dl = [\"data.zip\"] # need only this zip file\n",
    "for file in files:\n",
    "    if file[\"name\"] in files_to_dl:\n",
    "        os.makedirs(output_directory, exist_ok=True) # create the folder if not exists\n",
    "        urlretrieve(file[\"download_url\"], output_directory + file[\"name\"])"
   ]
  },
  {
   "cell_type": "markdown",
   "id": "understanding-tattoo",
   "metadata": {},
   "source": [
    "### 1.2 Unzipping Files "
   ]
  },
  {
   "cell_type": "code",
   "execution_count": 7,
   "id": "educated-subscriber",
   "metadata": {},
   "outputs": [
    {
     "name": "stdout",
     "output_type": "stream",
     "text": [
      "peak memory: 322.80 MiB, increment: 0.00 MiB\n",
      "CPU times: user 15.7 s, sys: 2.19 s, total: 17.9 s\n",
      "Wall time: 21 s\n"
     ]
    }
   ],
   "source": [
    "%%time\n",
    "%memit\n",
    "with zipfile.ZipFile(os.path.join(output_directory, \"data.zip\"), 'r') as f:\n",
    "    f.extractall(output_directory)"
   ]
  },
  {
   "cell_type": "markdown",
   "id": "sudden-hindu",
   "metadata": {},
   "source": [
    "### 1.3 Observations"
   ]
  },
  {
   "cell_type": "markdown",
   "id": "cardiac-forest",
   "metadata": {},
   "source": [
    "\n",
    "| Contributors | Downloading wall time  | Extracting wall time  | \n",
    "|:---:|:-----:|:--------:|\n",
    "| Neel   |   1min 10s   |  23 s      | \n",
    "| Arash   | 10min 12s    | 26.6 s         |  \n",
    "| Charles   | 59.9s   |    19.9s      |\n"
   ]
  },
  {
   "cell_type": "markdown",
   "id": "excited-strength",
   "metadata": {},
   "source": [
    "> Suprisingly Arash's time usage for downloading the data.zip was significantly larger than those for Neel and Charles."
   ]
  },
  {
   "cell_type": "markdown",
   "id": "alike-phoenix",
   "metadata": {},
   "source": [
    "## 2. Combining data CSVs"
   ]
  },
  {
   "cell_type": "code",
   "execution_count": 8,
   "id": "opposite-coast",
   "metadata": {},
   "outputs": [],
   "source": [
    "# %%time\n",
    "# %memit\n",
    "\n",
    "# files = glob.glob('figsharerainfall/*.csv')\n",
    "\n",
    "# df = pd.concat((pd.read_csv(file, header=0, index_col=0)\n",
    "#                 .assign(model=file[file.rfind(\"\\\\\")+1:file.index(\"_daily\")]) # Discuss this with others\n",
    "#                 for file in files))\n",
    "\n",
    "# df.to_csv(\"figsharerainfall/combined_data.csv\")"
   ]
  },
  {
   "cell_type": "code",
   "execution_count": 9,
   "id": "clinical-madagascar",
   "metadata": {},
   "outputs": [
    {
     "name": "stdout",
     "output_type": "stream",
     "text": [
      " 11G\tfigsharerainfall/combined_data.csv\n"
     ]
    }
   ],
   "source": [
    "%%sh\n",
    "du -sh figsharerainfall/combined_data.csv"
   ]
  },
  {
   "cell_type": "markdown",
   "id": "static-activation",
   "metadata": {},
   "source": [
    "### 2.1. Summary table"
   ]
  },
  {
   "cell_type": "markdown",
   "id": "southeast-albert",
   "metadata": {},
   "source": [
    "| Contributors | Combining data wall time  | combined_data.csv memory usage  | \n",
    "|:---:|:-----:|:--------:|\n",
    "| Neel   |   6min 51s   |  5.6G      | \n",
    "| Arash   | 6min 10s    | 5.7G         |  \n",
    "| Charles   | 5min 32s   |   6.6G       |\n"
   ]
  },
  {
   "cell_type": "markdown",
   "id": "outstanding-flight",
   "metadata": {},
   "source": [
    "### 2.2. Discussing observations"
   ]
  },
  {
   "cell_type": "markdown",
   "id": "earned-assumption",
   "metadata": {},
   "source": [
    "> Both run times and memory usages on different machines within the team are pretty similar\n",
    "\n",
    "> Time usage: 5-7 min\n",
    "\n",
    "> Memory usage: 5.5-6.6G"
   ]
  },
  {
   "cell_type": "markdown",
   "id": "later-extraction",
   "metadata": {},
   "source": [
    "## 3. Load the combined CSV to memory and performing a simple EDA"
   ]
  },
  {
   "cell_type": "code",
   "execution_count": 10,
   "id": "metallic-fancy",
   "metadata": {},
   "outputs": [
    {
     "name": "stdout",
     "output_type": "stream",
     "text": [
      "peak memory: 2873.51 MiB, increment: 2552.93 MiB\n",
      "CPU times: user 1min 52s, sys: 45.2 s, total: 2min 37s\n",
      "Wall time: 2min 51s\n"
     ]
    }
   ],
   "source": [
    "%%time\n",
    "%%memit\n",
    "df_float64 = pd.read_csv(\"figsharerainfall/combined_data.csv\")"
   ]
  },
  {
   "cell_type": "markdown",
   "id": "therapeutic-fiction",
   "metadata": {},
   "source": [
    "### 3.1.1 Investigating Memory Reduction Approaches"
   ]
  },
  {
   "cell_type": "markdown",
   "id": "existing-color",
   "metadata": {},
   "source": [
    "#### Changing dtype of data:"
   ]
  },
  {
   "cell_type": "code",
   "execution_count": 11,
   "id": "alpha-parking",
   "metadata": {},
   "outputs": [],
   "source": [
    "df_float32 = df_float64.astype('float32', errors='ignore')"
   ]
  },
  {
   "cell_type": "code",
   "execution_count": 12,
   "id": "appointed-integration",
   "metadata": {},
   "outputs": [
    {
     "name": "stdout",
     "output_type": "stream",
     "text": [
      "Memory usage with float64: 7001.55 MB\n",
      "Memory usage with float32: 4501.00 MB\n"
     ]
    }
   ],
   "source": [
    "print(f\"Memory usage with float64: {df_float64.memory_usage().sum() / 1e6:.2f} MB\")\n",
    "print(f\"Memory usage with float32: {df_float32.memory_usage().sum() / 1e6:.2f} MB\")"
   ]
  },
  {
   "cell_type": "markdown",
   "id": "little-sudan",
   "metadata": {},
   "source": [
    "> Memory usage with float32 (2250.50 MB) is much lower than the memory usage with float64 (3500.78 MB)."
   ]
  },
  {
   "cell_type": "markdown",
   "id": "adequate-creek",
   "metadata": {},
   "source": [
    "####  Using Dask:"
   ]
  },
  {
   "cell_type": "code",
   "execution_count": 13,
   "id": "super-approach",
   "metadata": {},
   "outputs": [
    {
     "name": "stdout",
     "output_type": "stream",
     "text": [
      "peak memory: 1508.29 MiB, increment: 11.88 MiB\n",
      "CPU times: user 143 ms, sys: 280 ms, total: 422 ms\n",
      "Wall time: 2.42 s\n"
     ]
    }
   ],
   "source": [
    "%%time\n",
    "%%memit\n",
    "ddf = dd.read_csv('figsharerainfall/combined_data.csv', blocksize=25e6)"
   ]
  },
  {
   "cell_type": "code",
   "execution_count": 14,
   "id": "assisted-sympathy",
   "metadata": {},
   "outputs": [],
   "source": [
    "cols = ['lat_min', 'lat_max', 'lon_min', 'lon_max', 'rain (mm/day)']\n",
    "ddf[cols] = ddf[cols].astype('float32')"
   ]
  },
  {
   "cell_type": "markdown",
   "id": "organized-speaking",
   "metadata": {},
   "source": [
    "### 3.1.2 Python Simple EDA"
   ]
  },
  {
   "cell_type": "markdown",
   "id": "different-integer",
   "metadata": {},
   "source": [
    "#### 3.1.2.1 Value Counts of `model`:"
   ]
  },
  {
   "cell_type": "markdown",
   "id": "governmental-surge",
   "metadata": {},
   "source": [
    "##### Pandas DataFrame:"
   ]
  },
  {
   "cell_type": "code",
   "execution_count": 15,
   "id": "oriented-beauty",
   "metadata": {},
   "outputs": [
    {
     "name": "stdout",
     "output_type": "stream",
     "text": [
      "model           \n",
      "combined            62513863\n",
      "MPI-ESM1-2-HR        5154240\n",
      "CMCC-ESM2            3541230\n",
      "NorESM2-MM           3541230\n",
      "TaiESM1              3541230\n",
      "CMCC-CM2-HR4         3541230\n",
      "CMCC-CM2-SR5         3541230\n",
      "SAM0-UNICON          3541153\n",
      "FGOALS-f3-L          3219300\n",
      "GFDL-CM4             3219300\n",
      "GFDL-ESM4            3219300\n",
      "EC-Earth3-Veg-LR     3037320\n",
      "MRI-ESM2-0           3037320\n",
      "BCC-CSM2-MR          3035340\n",
      "MIROC6               2070900\n",
      "ACCESS-CM2           1932840\n",
      "ACCESS-ESM1-5        1610700\n",
      "INM-CM4-8            1609650\n",
      "INM-CM5-0            1609650\n",
      "KIOST-ESM            1287720\n",
      "FGOALS-g3            1287720\n",
      "MPI-ESM-1-2-HAM       966420\n",
      "MPI-ESM1-2-LR         966420\n",
      "NESM3                 966420\n",
      "AWI-ESM-1-1-LR        966420\n",
      "NorESM2-LM            919800\n",
      "CanESM5               551880\n",
      "BCC-ESM1              551880\n",
      "observed               46020\n",
      "dtype: int64\n",
      "peak memory: 3805.16 MiB, increment: 2296.48 MiB\n",
      "CPU times: user 8.48 s, sys: 3.11 s, total: 11.6 s\n",
      "Wall time: 12.3 s\n"
     ]
    }
   ],
   "source": [
    "%%time\n",
    "%%memit\n",
    "print(df_float32[[\"model\"]].value_counts())"
   ]
  },
  {
   "cell_type": "markdown",
   "id": "brief-restaurant",
   "metadata": {},
   "source": [
    "##### Dask DataFrame:"
   ]
  },
  {
   "cell_type": "code",
   "execution_count": 16,
   "id": "meaningful-corps",
   "metadata": {},
   "outputs": [
    {
     "name": "stdout",
     "output_type": "stream",
     "text": [
      "combined            62513863\n",
      "MPI-ESM1-2-HR        5154240\n",
      "CMCC-ESM2            3541230\n",
      "NorESM2-MM           3541230\n",
      "TaiESM1              3541230\n",
      "CMCC-CM2-HR4         3541230\n",
      "CMCC-CM2-SR5         3541230\n",
      "SAM0-UNICON          3541153\n",
      "FGOALS-f3-L          3219300\n",
      "GFDL-CM4             3219300\n",
      "GFDL-ESM4            3219300\n",
      "EC-Earth3-Veg-LR     3037320\n",
      "MRI-ESM2-0           3037320\n",
      "BCC-CSM2-MR          3035340\n",
      "MIROC6               2070900\n",
      "ACCESS-CM2           1932840\n",
      "ACCESS-ESM1-5        1610700\n",
      "INM-CM4-8            1609650\n",
      "INM-CM5-0            1609650\n",
      "KIOST-ESM            1287720\n",
      "FGOALS-g3            1287720\n",
      "MPI-ESM-1-2-HAM       966420\n",
      "MPI-ESM1-2-LR         966420\n",
      "NESM3                 966420\n",
      "AWI-ESM-1-1-LR        966420\n",
      "NorESM2-LM            919800\n",
      "CanESM5               551880\n",
      "BCC-ESM1              551880\n",
      "observed               46020\n",
      "Name: model, dtype: int64\n",
      "peak memory: 1692.70 MiB, increment: 677.13 MiB\n",
      "CPU times: user 2min 46s, sys: 41.8 s, total: 3min 28s\n",
      "Wall time: 1min 20s\n"
     ]
    }
   ],
   "source": [
    "%%time\n",
    "%%memit\n",
    "print(ddf[\"model\"].value_counts().compute())"
   ]
  },
  {
   "cell_type": "markdown",
   "id": "educated-compound",
   "metadata": {},
   "source": [
    "##### Loading in Chunks:"
   ]
  },
  {
   "cell_type": "code",
   "execution_count": 17,
   "id": "statutory-benjamin",
   "metadata": {},
   "outputs": [
    {
     "name": "stdout",
     "output_type": "stream",
     "text": [
      "ACCESS-CM2           1932840\n",
      "ACCESS-ESM1-5        1610700\n",
      "AWI-ESM-1-1-LR        966420\n",
      "BCC-CSM2-MR          3035340\n",
      "BCC-ESM1              551880\n",
      "CMCC-CM2-HR4         3541230\n",
      "CMCC-CM2-SR5         3541230\n",
      "CMCC-ESM2            3541230\n",
      "CanESM5               551880\n",
      "EC-Earth3-Veg-LR     3037320\n",
      "FGOALS-f3-L          3219300\n",
      "FGOALS-g3            1287720\n",
      "GFDL-CM4             3219300\n",
      "GFDL-ESM4            3219300\n",
      "INM-CM4-8            1609650\n",
      "INM-CM5-0            1609650\n",
      "KIOST-ESM            1287720\n",
      "MIROC6               2070900\n",
      "MPI-ESM-1-2-HAM       966420\n",
      "MPI-ESM1-2-HR        5154240\n",
      "MPI-ESM1-2-LR         966420\n",
      "MRI-ESM2-0           3037320\n",
      "NESM3                 966420\n",
      "NorESM2-LM            919800\n",
      "NorESM2-MM           3541230\n",
      "SAM0-UNICON          3541153\n",
      "TaiESM1              3541230\n",
      "combined            62513863\n",
      "observed               46020\n",
      "dtype: int64\n",
      "peak memory: 2355.02 MiB, increment: 1920.97 MiB\n",
      "CPU times: user 1min 55s, sys: 13.2 s, total: 2min 9s\n",
      "Wall time: 2min 10s\n"
     ]
    }
   ],
   "source": [
    "%%time\n",
    "%%memit\n",
    "counts = pd.Series(dtype=int)\n",
    "for chunk in pd.read_csv(\"figsharerainfall/combined_data.csv\", chunksize=10_000_000):\n",
    "    counts = counts.add(chunk[\"model\"].value_counts(), fill_value=0)\n",
    "print(counts.astype(int))"
   ]
  },
  {
   "cell_type": "markdown",
   "id": "retained-culture",
   "metadata": {},
   "source": [
    "##### Observations:\n",
    "\n",
    "|                  | Peak Memory | CPU Time | Wall Time |\n",
    "|:----------------:|:-----------:|:--------:|:---------:|\n",
    "| Pandas DataFrame |9312.58 MB  |  5.16s     |   5.16s        |\n",
    "|  Dask DataFrame  | 8822.06 MB |2min 12s     | 45.8          |\n",
    "|  Loading in Chunks| 6144.35 MB  |    1min 7s   |   1min 8s    |\n",
    "\n",
    "When calling `value_counts` function:\n",
    "- By using Dask DataFrame over Pandas DataFrame, we see that the Peak Memory drops by a considerable amount\n",
    "- However, the CPU and Wall Times are quite a bit higher when using Dask DataFrame over Pandas DataFrame\n",
    "- Loading the data in chunks as Pandas DataFrame, has, by far, the lowest Peak Memory usage. However, the wall time is the highest of all the three methods considered here"
   ]
  },
  {
   "cell_type": "markdown",
   "id": "separate-daughter",
   "metadata": {},
   "source": [
    "#### 3.1.2.2 Summary statistics of Rainfall (mm/day) across Australia:"
   ]
  },
  {
   "cell_type": "markdown",
   "id": "voluntary-baltimore",
   "metadata": {},
   "source": [
    "##### Pandas DataFrame `float64`:"
   ]
  },
  {
   "cell_type": "code",
   "execution_count": 18,
   "id": "specialized-combining",
   "metadata": {},
   "outputs": [
    {
     "name": "stdout",
     "output_type": "stream",
     "text": [
      "       rain (mm/day)\n",
      "count   1.185891e+08\n",
      "mean    1.901827e+00\n",
      "std     5.588275e+00\n",
      "min    -3.807373e-12\n",
      "25%     3.876672e-06\n",
      "50%     6.161705e-02\n",
      "75%     1.021314e+00\n",
      "max     4.329395e+02\n",
      "peak memory: 4856.75 MiB, increment: 3748.60 MiB\n",
      "CPU times: user 8.5 s, sys: 8.85 s, total: 17.4 s\n",
      "Wall time: 23.4 s\n"
     ]
    }
   ],
   "source": [
    "%%time\n",
    "%%memit\n",
    "print(df_float64[['rain (mm/day)']].describe())"
   ]
  },
  {
   "cell_type": "markdown",
   "id": "mounted-cheese",
   "metadata": {},
   "source": [
    "##### Pandas DataFrame `float32`:"
   ]
  },
  {
   "cell_type": "code",
   "execution_count": 19,
   "id": "skilled-norfolk",
   "metadata": {},
   "outputs": [
    {
     "name": "stdout",
     "output_type": "stream",
     "text": [
      "       rain (mm/day)\n",
      "count   1.185891e+08\n",
      "mean    1.901821e+00\n",
      "std     5.588274e+00\n",
      "min    -3.807373e-12\n",
      "25%     3.876672e-06\n",
      "50%     6.161705e-02\n",
      "75%     1.021314e+00\n",
      "max     4.329395e+02\n",
      "peak memory: 3228.12 MiB, increment: 2862.27 MiB\n",
      "CPU times: user 5.47 s, sys: 2.47 s, total: 7.94 s\n",
      "Wall time: 10.3 s\n"
     ]
    }
   ],
   "source": [
    "%%time\n",
    "%%memit\n",
    "print(df_float32[['rain (mm/day)']].describe())"
   ]
  },
  {
   "cell_type": "markdown",
   "id": "graphic-pencil",
   "metadata": {},
   "source": [
    "##### Dask DataFrame `float32`:"
   ]
  },
  {
   "cell_type": "code",
   "execution_count": 20,
   "id": "solved-chosen",
   "metadata": {},
   "outputs": [
    {
     "name": "stdout",
     "output_type": "stream",
     "text": [
      "       rain (mm/day)\n",
      "count   1.185891e+08\n",
      "mean    1.901827e+00\n",
      "std     5.588275e+00\n",
      "min    -3.807373e-12\n",
      "25%     4.300314e-03\n",
      "50%     3.028142e-01\n",
      "75%     3.030826e+00\n",
      "max     4.329395e+02\n",
      "peak memory: 1444.20 MiB, increment: 600.61 MiB\n",
      "CPU times: user 3min 2s, sys: 47.2 s, total: 3min 49s\n",
      "Wall time: 1min 24s\n"
     ]
    }
   ],
   "source": [
    "%%time\n",
    "%%memit\n",
    "print(ddf[['rain (mm/day)']].describe().compute())"
   ]
  },
  {
   "cell_type": "markdown",
   "id": "recorded-russian",
   "metadata": {},
   "source": [
    "##### Observations:\n",
    "\n",
    "|                            | Peak Memory | CPU Time | Wall Time |\n",
    "|:--------------------------:|:-----------:|:--------:|:---------:|\n",
    "| Pandas DataFrame `float64` |  7153.32 MB           | 4.98s         |  5.69s         |\n",
    "| Pandas DataFrame `float32` |  6199.48 MB           |   3.66s       | 4.38s          |\n",
    "|  Dask DataFrame `float32`  |   6412.95 MB          |   2min 20s      |  44.8s         |\n",
    "\n",
    "When calling the `describe` function:\n",
    "- The Peak Memory consumed is drops when using the Pandas DataFrame with `float32` numeric columns over the Pandas DataFrame with `float64` numeric columns\n",
    "- The CPU and Wall Times also drop when switching from the Pandas DataFrame with `float64` to the Pandas DataFrame with `float32` numeric columns\n",
    "- Interestingly, when compared with the Pandas DataFrame with `float32` numeric columns, the Dask DataFrame with `float32` numeric columns consumes more Peak Memory, and also has much higher CPU and Wall Times"
   ]
  },
  {
   "cell_type": "markdown",
   "id": "patent-stretch",
   "metadata": {},
   "source": [
    "#### 3.1.2.3 BoxPlot of Rainfall (mm/day) across Australia:"
   ]
  },
  {
   "cell_type": "code",
   "execution_count": 21,
   "id": "comprehensive-paint",
   "metadata": {},
   "outputs": [],
   "source": [
    "sns.set_theme(style=\"whitegrid\")\n",
    "sns.set(rc={\"figure.figsize\": (15, 7.5)}, font_scale=1.25)"
   ]
  },
  {
   "cell_type": "markdown",
   "id": "outer-weather",
   "metadata": {},
   "source": [
    "##### Pandas DataFrame `float64`:"
   ]
  },
  {
   "cell_type": "code",
   "execution_count": 22,
   "id": "quiet-democracy",
   "metadata": {},
   "outputs": [
    {
     "name": "stdout",
     "output_type": "stream",
     "text": [
      "peak memory: 3888.07 MiB, increment: 3232.11 MiB\n",
      "CPU times: user 5.41 s, sys: 3.21 s, total: 8.62 s\n",
      "Wall time: 10.7 s\n"
     ]
    },
    {
     "data": {
      "image/png": "[encoded data removed]",
      "text/plain": [
       "<Figure size 1080x540 with 1 Axes>"
      ]
     },
     "metadata": {},
     "output_type": "display_data"
    }
   ],
   "source": [
    "%%time\n",
    "%%memit\n",
    "sns.boxplot(x=df_float64['rain (mm/day)'], showfliers=False);\n",
    "plt.title(\"BoxPlot of Rainfall (mm/day) across Australia\");\n",
    "plt.xlabel(\"Rain (mm/day)\");"
   ]
  },
  {
   "cell_type": "markdown",
   "id": "threatened-heritage",
   "metadata": {},
   "source": [
    "##### Pandas DataFrame `float32`:"
   ]
  },
  {
   "cell_type": "code",
   "execution_count": 23,
   "id": "parental-feature",
   "metadata": {},
   "outputs": [
    {
     "name": "stdout",
     "output_type": "stream",
     "text": [
      "peak memory: 3095.64 MiB, increment: 1815.76 MiB\n",
      "CPU times: user 3.94 s, sys: 1.05 s, total: 4.99 s\n",
      "Wall time: 5.93 s\n"
     ]
    },
    {
     "data": {
      "image/png": "[encoded data removed]",
      "text/plain": [
       "<Figure size 1080x540 with 1 Axes>"
      ]
     },
     "metadata": {},
     "output_type": "display_data"
    }
   ],
   "source": [
    "%%time\n",
    "%%memit\n",
    "sns.boxplot(x=df_float32['rain (mm/day)'], showfliers=False);\n",
    "plt.title(\"BoxPlot of Rainfall (mm/day) across Australia\");\n",
    "plt.xlabel(\"Rain (mm/day)\");"
   ]
  },
  {
   "cell_type": "markdown",
   "id": "forced-woman",
   "metadata": {},
   "source": [
    "##### Dask DataFrame `float32`:"
   ]
  },
  {
   "cell_type": "code",
   "execution_count": 24,
   "id": "likely-percentage",
   "metadata": {},
   "outputs": [
    {
     "name": "stdout",
     "output_type": "stream",
     "text": [
      "peak memory: 2618.93 MiB, increment: 806.66 MiB\n",
      "CPU times: user 9min, sys: 2min 34s, total: 11min 34s\n",
      "Wall time: 4min 32s\n"
     ]
    },
    {
     "data": {
      "image/png": "[encoded data removed]",
      "text/plain": [
       "<Figure size 1080x540 with 1 Axes>"
      ]
     },
     "metadata": {},
     "output_type": "display_data"
    }
   ],
   "source": [
    "%%time\n",
    "%%memit\n",
    "sns.boxplot(x=ddf['rain (mm/day)'], showfliers=False);\n",
    "plt.title(\"BoxPlot of Rainfall (mm/day) across Australia\");\n",
    "plt.xlabel(\"Rain (mm/day)\");"
   ]
  },
  {
   "cell_type": "markdown",
   "id": "commercial-address",
   "metadata": {},
   "source": [
    "##### Observations:\n",
    "\n",
    "|                            | Peak Memory | CPU Time | Wall Time |\n",
    "|:--------------------------:|:-----------:|:--------:|:---------:|\n",
    "| Pandas DataFrame `float64` |  5824.61 MB           | 2.98s         |   3.66s        |\n",
    "| Pandas DataFrame `float32` |  5213.86 MB           |  2.28s        |   2.75s        |\n",
    "|  Dask DataFrame `float32`  |  6539.55 MB           |  6min 16s        |  2min 3s         |\n",
    "\n",
    "\n",
    "When creating boxplots using `sns.boxplot`:\n",
    "- The Peak Memory consumed is lower when using the Pandas DataFrame with `float32` numeric columns when compared with using the Pandas DataFrame with `float64` numeric columns\n",
    "- The CPU and Wall Times are also lower when using the Pandas DataFrame with `float32` numeric columns when compared with using the Pandas DataFrame with `float64` numeric columns\n",
    "- Interestingly, the Dask DataFrame with `float32` numeric columns consumes the most amount of Peak Memory and also has much higher CPU and Wall times when compared with the Panadas DataFrames"
   ]
  },
  {
   "cell_type": "markdown",
   "id": "labeled-timing",
   "metadata": {},
   "source": [
    "## 4. R Approaches For Data Transfer"
   ]
  },
  {
   "cell_type": "markdown",
   "id": "regulation-scanner",
   "metadata": {},
   "source": [
    "### 4.1.1 Create Data Structures"
   ]
  },
  {
   "cell_type": "markdown",
   "id": "stainless-latest",
   "metadata": {},
   "source": [
    "#### Create table:"
   ]
  },
  {
   "cell_type": "code",
   "execution_count": 25,
   "id": "electric-witness",
   "metadata": {},
   "outputs": [
    {
     "name": "stdout",
     "output_type": "stream",
     "text": [
      "peak memory: 1678.41 MiB, increment: 1254.31 MiB\n",
      "CPU times: user 39.1 s, sys: 25.3 s, total: 1min 4s\n",
      "Wall time: 57.6 s\n"
     ]
    }
   ],
   "source": [
    "%%time\n",
    "%%memit\n",
    "\n",
    "dataset = ds.dataset(\"figsharerainfall/combined_data.csv\", format=\"csv\")\n",
    "table = dataset.to_table()"
   ]
  },
  {
   "cell_type": "markdown",
   "id": "random-professor",
   "metadata": {},
   "source": [
    "#### Create Arrow Object:"
   ]
  },
  {
   "cell_type": "code",
   "execution_count": 26,
   "id": "automated-madrid",
   "metadata": {},
   "outputs": [
    {
     "name": "stdout",
     "output_type": "stream",
     "text": [
      "11244\n",
      "rarrow.ChunkedArray: 0.053565025329589844\n",
      "11244\n",
      "rarrow.ChunkedArray: 0.04833507537841797\n",
      "11244\n",
      "rarrow.ChunkedArray: 0.04797697067260742\n",
      "11244\n",
      "rarrow.ChunkedArray: 0.06759881973266602\n",
      "11244\n",
      "rarrow.ChunkedArray: 0.04580402374267578\n",
      "11244\n",
      "rarrow.ChunkedArray: 0.05088925361633301\n",
      "11244\n",
      "rarrow.ChunkedArray: 0.05807304382324219\n",
      "peak memory: 542.28 MiB, increment: 217.64 MiB\n",
      "CPU times: user 49.7 s, sys: 3.62 s, total: 53.3 s\n",
      "Wall time: 55.7 s\n"
     ]
    }
   ],
   "source": [
    "%%time\n",
    "%%memit\n",
    "## Here we are loading the arrow dataframe that we have loaded previously\n",
    "arrow_table = pyra.converter.py2rpy(table)"
   ]
  },
  {
   "cell_type": "markdown",
   "id": "posted-conditions",
   "metadata": {},
   "source": [
    "#### Create Feather File:"
   ]
  },
  {
   "cell_type": "code",
   "execution_count": 27,
   "id": "trained-immigration",
   "metadata": {},
   "outputs": [
    {
     "name": "stdout",
     "output_type": "stream",
     "text": [
      "CPU times: user 9.45 s, sys: 31.1 s, total: 40.6 s\n",
      "Wall time: 25.7 s\n"
     ]
    }
   ],
   "source": [
    "%%time\n",
    "feather.write_feather(table, 'figsharerainfall/combined_data.feather')"
   ]
  },
  {
   "cell_type": "code",
   "execution_count": 28,
   "id": "passive-ceramic",
   "metadata": {},
   "outputs": [
    {
     "name": "stdout",
     "output_type": "stream",
     "text": [
      "2.0G\tfigsharerainfall/combined_data.feather\n"
     ]
    }
   ],
   "source": [
    "%%sh\n",
    "du -sh figsharerainfall/combined_data.feather"
   ]
  },
  {
   "cell_type": "markdown",
   "id": "prostate-ready",
   "metadata": {},
   "source": [
    "#### Create Parquet File:"
   ]
  },
  {
   "cell_type": "code",
   "execution_count": 29,
   "id": "spanish-poker",
   "metadata": {},
   "outputs": [
    {
     "name": "stdout",
     "output_type": "stream",
     "text": [
      "CPU times: user 28.3 s, sys: 19.3 s, total: 47.5 s\n",
      "Wall time: 1min 5s\n"
     ]
    }
   ],
   "source": [
    "%%time \n",
    "pq.write_table(table, 'figsharerainfall/combined_data.parquet')"
   ]
  },
  {
   "cell_type": "code",
   "execution_count": 30,
   "id": "waiting-rolling",
   "metadata": {},
   "outputs": [
    {
     "name": "stdout",
     "output_type": "stream",
     "text": [
      "1.1G\tfigsharerainfall/combined_data.parquet\n"
     ]
    }
   ],
   "source": [
    "%%sh\n",
    "du -sh figsharerainfall/combined_data.parquet"
   ]
  },
  {
   "cell_type": "markdown",
   "id": "cordless-monitor",
   "metadata": {},
   "source": [
    "|                            | Disk Usage | Wall Time | \n",
    "|:--------------------------:|:-----------:|:---------:|\n",
    "| `combined_data.csv` |  6.6G          |      6min 51s   |\n",
    "| `combined_data.feather` |  1.0G          |    40.6s    | \n",
    "|  `combined_data.parquet`  |  544M        |     47.5s     |"
   ]
  },
  {
   "cell_type": "markdown",
   "id": "convinced-suite",
   "metadata": {},
   "source": [
    "### 4.1.2 Transfer File Structure to R"
   ]
  },
  {
   "cell_type": "markdown",
   "id": "organic-edition",
   "metadata": {},
   "source": [
    "#### Using Arrow Object:"
   ]
  },
  {
   "cell_type": "code",
   "execution_count": 31,
   "id": "center-stretch",
   "metadata": {},
   "outputs": [
    {
     "name": "stdout",
     "output_type": "stream",
     "text": [
      "Classes 'Table', 'ArrowObject', 'R6' <Table>\n",
      "  Inherits from: <ArrowObject>\n",
      "  Public:\n",
      "    .:xp:.: externalptr\n",
      "    AddColumn: function (i, new_field, value) \n",
      "    cast: function (target_schema, safe = TRUE, options = cast_options(safe)) \n",
      "    clone: function (deep = FALSE) \n",
      "    column: function (i) \n",
      "    ColumnNames: function () \n",
      "    columns: active binding\n",
      "    Equals: function (other, check_metadata = FALSE, ...) \n",
      "    field: function (i) \n",
      "    Filter: function (i, keep_na = TRUE) \n",
      "    GetColumnByName: function (name) \n",
      "    initialize: function (xp) \n",
      "    invalidate: function () \n",
      "    metadata: active binding\n",
      "    num_columns: active binding\n",
      "    num_rows: active binding\n",
      "    pointer: function () \n",
      "    print: function (...) \n",
      "    RemoveColumn: function (i) \n",
      "    RenameColumns: function (value) \n",
      "    schema: active binding\n",
      "    SelectColumns: function (indices) \n",
      "    serialize: function (output_stream, ...) \n",
      "    set_pointer: function (xp) \n",
      "    SetColumn: function (i, new_field, value) \n",
      "    Slice: function (offset, length = NULL) \n",
      "    Take: function (i) \n",
      "    ToString: function () \n",
      "    Validate: function () \n",
      "    ValidateFull: function ()  \n",
      "[1] \"Table\"       \"ArrowObject\" \"R6\"         \n",
      "Table\n",
      "6 rows x 7 columns\n",
      "$time <timestamp[s]>\n",
      "$lat_min <double>\n",
      "$lat_max <double>\n",
      "$lon_min <double>\n",
      "$lon_max <double>\n",
      "$rain (mm/day) <double>\n",
      "$model <string>\n",
      "Table\n",
      "125027726 rows x 7 columns\n",
      "$time <timestamp[s]>\n",
      "$lat_min <double>\n",
      "$lat_max <double>\n",
      "$lon_min <double>\n",
      "$lon_max <double>\n",
      "$rain (mm/day) <double>\n",
      "$model <string>\n",
      "\u001b[90m# A tibble: 29 x 2\u001b[39m\n",
      "   model                 n\n",
      "   \u001b[3m\u001b[90m<chr>\u001b[39m\u001b[23m             \u001b[3m\u001b[90m<int>\u001b[39m\u001b[23m\n",
      "\u001b[90m 1\u001b[39m ACCESS-CM2      1\u001b[4m9\u001b[24m\u001b[4m3\u001b[24m\u001b[4m2\u001b[24m840\n",
      "\u001b[90m 2\u001b[39m ACCESS-ESM1-5   1\u001b[4m6\u001b[24m\u001b[4m1\u001b[24m\u001b[4m0\u001b[24m700\n",
      "\u001b[90m 3\u001b[39m AWI-ESM-1-1-LR   \u001b[4m9\u001b[24m\u001b[4m6\u001b[24m\u001b[4m6\u001b[24m420\n",
      "\u001b[90m 4\u001b[39m BCC-CSM2-MR     3\u001b[4m0\u001b[24m\u001b[4m3\u001b[24m\u001b[4m5\u001b[24m340\n",
      "\u001b[90m 5\u001b[39m BCC-ESM1         \u001b[4m5\u001b[24m\u001b[4m5\u001b[24m\u001b[4m1\u001b[24m880\n",
      "\u001b[90m 6\u001b[39m CanESM5          \u001b[4m5\u001b[24m\u001b[4m5\u001b[24m\u001b[4m1\u001b[24m880\n",
      "\u001b[90m 7\u001b[39m CMCC-CM2-HR4    3\u001b[4m5\u001b[24m\u001b[4m4\u001b[24m\u001b[4m1\u001b[24m230\n",
      "\u001b[90m 8\u001b[39m CMCC-CM2-SR5    3\u001b[4m5\u001b[24m\u001b[4m4\u001b[24m\u001b[4m1\u001b[24m230\n",
      "\u001b[90m 9\u001b[39m CMCC-ESM2       3\u001b[4m5\u001b[24m\u001b[4m4\u001b[24m\u001b[4m1\u001b[24m230\n",
      "\u001b[90m10\u001b[39m combined       62\u001b[4m5\u001b[24m\u001b[4m1\u001b[24m\u001b[4m3\u001b[24m863\n",
      "\u001b[90m# … with 19 more rows\u001b[39m\n",
      "Time difference of 34.68593 secs\n",
      "CPU times: user 15.2 s, sys: 27.5 s, total: 42.7 s\n",
      "Wall time: 35.3 s\n"
     ]
    }
   ],
   "source": [
    "%%time\n",
    "%%R -i arrow_table\n",
    "start_time <- Sys.time()\n",
    "rview <- head(arrow_table)\n",
    "summary_df <- glimpse(arrow_table)\n",
    "model_count <- arrow_table %>% collect() %>% count(model)\n",
    "end_time <- Sys.time()\n",
    "print(class(arrow_table))\n",
    "print(rview)\n",
    "print(summary_df)\n",
    "print(model_count)\n",
    "print(end_time - start_time)"
   ]
  },
  {
   "cell_type": "markdown",
   "id": "portable-holocaust",
   "metadata": {},
   "source": [
    "#### Using Feather File:"
   ]
  },
  {
   "cell_type": "code",
   "execution_count": 32,
   "id": "native-brand",
   "metadata": {},
   "outputs": [
    {
     "name": "stdout",
     "output_type": "stream",
     "text": [
      "Rows: 125,027,726\n",
      "Columns: 7\n",
      "$ time            \u001b[3m\u001b[90m<dttm>\u001b[39m\u001b[23m 1889-01-01 04:00:00, 1889-01-02 04:00:00, 1889-01-03 …\n",
      "$ lat_min         \u001b[3m\u001b[90m<dbl>\u001b[39m\u001b[23m -35.43987, -35.43987, -35.43987, -35.43987, -35.43987,…\n",
      "$ lat_max         \u001b[3m\u001b[90m<dbl>\u001b[39m\u001b[23m -33.57462, -33.57462, -33.57462, -33.57462, -33.57462,…\n",
      "$ lon_min         \u001b[3m\u001b[90m<dbl>\u001b[39m\u001b[23m 141.5625, 141.5625, 141.5625, 141.5625, 141.5625, 141.…\n",
      "$ lon_max         \u001b[3m\u001b[90m<dbl>\u001b[39m\u001b[23m 143.4375, 143.4375, 143.4375, 143.4375, 143.4375, 143.…\n",
      "$ `rain (mm/day)` \u001b[3m\u001b[90m<dbl>\u001b[39m\u001b[23m 4.244226e-13, 4.217326e-13, 4.498125e-13, 4.251282e-13…\n",
      "$ model           \u001b[3m\u001b[90m<chr>\u001b[39m\u001b[23m \"MPI-ESM-1-2-HAM\", \"MPI-ESM-1-2-HAM\", \"MPI-ESM-1-2-HAM…\n",
      "[1] \"tbl_df\"     \"tbl\"        \"data.frame\"\n",
      "\u001b[90m# A tibble: 6 x 7\u001b[39m\n",
      "  time                lat_min lat_max lon_min lon_max `rain (mm/day)` model     \n",
      "  \u001b[3m\u001b[90m<dttm>\u001b[39m\u001b[23m                \u001b[3m\u001b[90m<dbl>\u001b[39m\u001b[23m   \u001b[3m\u001b[90m<dbl>\u001b[39m\u001b[23m   \u001b[3m\u001b[90m<dbl>\u001b[39m\u001b[23m   \u001b[3m\u001b[90m<dbl>\u001b[39m\u001b[23m           \u001b[3m\u001b[90m<dbl>\u001b[39m\u001b[23m \u001b[3m\u001b[90m<chr>\u001b[39m\u001b[23m     \n",
      "\u001b[90m1\u001b[39m 1889-01-01 \u001b[90m04:00:00\u001b[39m   -\u001b[31m35\u001b[39m\u001b[31m.\u001b[39m\u001b[31m4\u001b[39m   -\u001b[31m33\u001b[39m\u001b[31m.\u001b[39m\u001b[31m6\u001b[39m    142.    143.        4.24\u001b[90me\u001b[39m\u001b[31m-13\u001b[39m MPI-ESM-1…\n",
      "\u001b[90m2\u001b[39m 1889-01-02 \u001b[90m04:00:00\u001b[39m   -\u001b[31m35\u001b[39m\u001b[31m.\u001b[39m\u001b[31m4\u001b[39m   -\u001b[31m33\u001b[39m\u001b[31m.\u001b[39m\u001b[31m6\u001b[39m    142.    143.        4.22\u001b[90me\u001b[39m\u001b[31m-13\u001b[39m MPI-ESM-1…\n",
      "\u001b[90m3\u001b[39m 1889-01-03 \u001b[90m04:00:00\u001b[39m   -\u001b[31m35\u001b[39m\u001b[31m.\u001b[39m\u001b[31m4\u001b[39m   -\u001b[31m33\u001b[39m\u001b[31m.\u001b[39m\u001b[31m6\u001b[39m    142.    143.        4.50\u001b[90me\u001b[39m\u001b[31m-13\u001b[39m MPI-ESM-1…\n",
      "\u001b[90m4\u001b[39m 1889-01-04 \u001b[90m04:00:00\u001b[39m   -\u001b[31m35\u001b[39m\u001b[31m.\u001b[39m\u001b[31m4\u001b[39m   -\u001b[31m33\u001b[39m\u001b[31m.\u001b[39m\u001b[31m6\u001b[39m    142.    143.        4.25\u001b[90me\u001b[39m\u001b[31m-13\u001b[39m MPI-ESM-1…\n",
      "\u001b[90m5\u001b[39m 1889-01-05 \u001b[90m04:00:00\u001b[39m   -\u001b[31m35\u001b[39m\u001b[31m.\u001b[39m\u001b[31m4\u001b[39m   -\u001b[31m33\u001b[39m\u001b[31m.\u001b[39m\u001b[31m6\u001b[39m    142.    143.        4.27\u001b[90me\u001b[39m\u001b[31m-13\u001b[39m MPI-ESM-1…\n",
      "\u001b[90m6\u001b[39m 1889-01-06 \u001b[90m04:00:00\u001b[39m   -\u001b[31m35\u001b[39m\u001b[31m.\u001b[39m\u001b[31m4\u001b[39m   -\u001b[31m33\u001b[39m\u001b[31m.\u001b[39m\u001b[31m6\u001b[39m    142.    143.        4.20\u001b[90me\u001b[39m\u001b[31m-13\u001b[39m MPI-ESM-1…\n",
      "\u001b[90m# A tibble: 125,027,726 x 7\u001b[39m\n",
      "   time                lat_min lat_max lon_min lon_max `rain (mm/day)` model    \n",
      "   \u001b[3m\u001b[90m<dttm>\u001b[39m\u001b[23m                \u001b[3m\u001b[90m<dbl>\u001b[39m\u001b[23m   \u001b[3m\u001b[90m<dbl>\u001b[39m\u001b[23m   \u001b[3m\u001b[90m<dbl>\u001b[39m\u001b[23m   \u001b[3m\u001b[90m<dbl>\u001b[39m\u001b[23m           \u001b[3m\u001b[90m<dbl>\u001b[39m\u001b[23m \u001b[3m\u001b[90m<chr>\u001b[39m\u001b[23m    \n",
      "\u001b[90m 1\u001b[39m 1889-01-01 \u001b[90m04:00:00\u001b[39m   -\u001b[31m35\u001b[39m\u001b[31m.\u001b[39m\u001b[31m4\u001b[39m   -\u001b[31m33\u001b[39m\u001b[31m.\u001b[39m\u001b[31m6\u001b[39m    142.    143.        4.24\u001b[90me\u001b[39m\u001b[31m-13\u001b[39m MPI-ESM-…\n",
      "\u001b[90m 2\u001b[39m 1889-01-02 \u001b[90m04:00:00\u001b[39m   -\u001b[31m35\u001b[39m\u001b[31m.\u001b[39m\u001b[31m4\u001b[39m   -\u001b[31m33\u001b[39m\u001b[31m.\u001b[39m\u001b[31m6\u001b[39m    142.    143.        4.22\u001b[90me\u001b[39m\u001b[31m-13\u001b[39m MPI-ESM-…\n",
      "\u001b[90m 3\u001b[39m 1889-01-03 \u001b[90m04:00:00\u001b[39m   -\u001b[31m35\u001b[39m\u001b[31m.\u001b[39m\u001b[31m4\u001b[39m   -\u001b[31m33\u001b[39m\u001b[31m.\u001b[39m\u001b[31m6\u001b[39m    142.    143.        4.50\u001b[90me\u001b[39m\u001b[31m-13\u001b[39m MPI-ESM-…\n",
      "\u001b[90m 4\u001b[39m 1889-01-04 \u001b[90m04:00:00\u001b[39m   -\u001b[31m35\u001b[39m\u001b[31m.\u001b[39m\u001b[31m4\u001b[39m   -\u001b[31m33\u001b[39m\u001b[31m.\u001b[39m\u001b[31m6\u001b[39m    142.    143.        4.25\u001b[90me\u001b[39m\u001b[31m-13\u001b[39m MPI-ESM-…\n",
      "\u001b[90m 5\u001b[39m 1889-01-05 \u001b[90m04:00:00\u001b[39m   -\u001b[31m35\u001b[39m\u001b[31m.\u001b[39m\u001b[31m4\u001b[39m   -\u001b[31m33\u001b[39m\u001b[31m.\u001b[39m\u001b[31m6\u001b[39m    142.    143.        4.27\u001b[90me\u001b[39m\u001b[31m-13\u001b[39m MPI-ESM-…\n",
      "\u001b[90m 6\u001b[39m 1889-01-06 \u001b[90m04:00:00\u001b[39m   -\u001b[31m35\u001b[39m\u001b[31m.\u001b[39m\u001b[31m4\u001b[39m   -\u001b[31m33\u001b[39m\u001b[31m.\u001b[39m\u001b[31m6\u001b[39m    142.    143.        4.20\u001b[90me\u001b[39m\u001b[31m-13\u001b[39m MPI-ESM-…\n",
      "\u001b[90m 7\u001b[39m 1889-01-07 \u001b[90m04:00:00\u001b[39m   -\u001b[31m35\u001b[39m\u001b[31m.\u001b[39m\u001b[31m4\u001b[39m   -\u001b[31m33\u001b[39m\u001b[31m.\u001b[39m\u001b[31m6\u001b[39m    142.    143.        4.19\u001b[90me\u001b[39m\u001b[31m-13\u001b[39m MPI-ESM-…\n",
      "\u001b[90m 8\u001b[39m 1889-01-08 \u001b[90m04:00:00\u001b[39m   -\u001b[31m35\u001b[39m\u001b[31m.\u001b[39m\u001b[31m4\u001b[39m   -\u001b[31m33\u001b[39m\u001b[31m.\u001b[39m\u001b[31m6\u001b[39m    142.    143.        4.56\u001b[90me\u001b[39m\u001b[31m-13\u001b[39m MPI-ESM-…\n",
      "\u001b[90m 9\u001b[39m 1889-01-09 \u001b[90m04:00:00\u001b[39m   -\u001b[31m35\u001b[39m\u001b[31m.\u001b[39m\u001b[31m4\u001b[39m   -\u001b[31m33\u001b[39m\u001b[31m.\u001b[39m\u001b[31m6\u001b[39m    142.    143.        2.53\u001b[90me\u001b[39m+ 0 MPI-ESM-…\n",
      "\u001b[90m10\u001b[39m 1889-01-10 \u001b[90m04:00:00\u001b[39m   -\u001b[31m35\u001b[39m\u001b[31m.\u001b[39m\u001b[31m4\u001b[39m   -\u001b[31m33\u001b[39m\u001b[31m.\u001b[39m\u001b[31m6\u001b[39m    142.    143.        4.12\u001b[90me\u001b[39m\u001b[31m- 2\u001b[39m MPI-ESM-…\n",
      "\u001b[90m# … with 125,027,716 more rows\u001b[39m\n",
      "\u001b[90m# A tibble: 29 x 2\u001b[39m\n",
      "   model                 n\n",
      "   \u001b[3m\u001b[90m<chr>\u001b[39m\u001b[23m             \u001b[3m\u001b[90m<int>\u001b[39m\u001b[23m\n",
      "\u001b[90m 1\u001b[39m ACCESS-CM2      1\u001b[4m9\u001b[24m\u001b[4m3\u001b[24m\u001b[4m2\u001b[24m840\n",
      "\u001b[90m 2\u001b[39m ACCESS-ESM1-5   1\u001b[4m6\u001b[24m\u001b[4m1\u001b[24m\u001b[4m0\u001b[24m700\n",
      "\u001b[90m 3\u001b[39m AWI-ESM-1-1-LR   \u001b[4m9\u001b[24m\u001b[4m6\u001b[24m\u001b[4m6\u001b[24m420\n",
      "\u001b[90m 4\u001b[39m BCC-CSM2-MR     3\u001b[4m0\u001b[24m\u001b[4m3\u001b[24m\u001b[4m5\u001b[24m340\n",
      "\u001b[90m 5\u001b[39m BCC-ESM1         \u001b[4m5\u001b[24m\u001b[4m5\u001b[24m\u001b[4m1\u001b[24m880\n",
      "\u001b[90m 6\u001b[39m CanESM5          \u001b[4m5\u001b[24m\u001b[4m5\u001b[24m\u001b[4m1\u001b[24m880\n",
      "\u001b[90m 7\u001b[39m CMCC-CM2-HR4    3\u001b[4m5\u001b[24m\u001b[4m4\u001b[24m\u001b[4m1\u001b[24m230\n",
      "\u001b[90m 8\u001b[39m CMCC-CM2-SR5    3\u001b[4m5\u001b[24m\u001b[4m4\u001b[24m\u001b[4m1\u001b[24m230\n",
      "\u001b[90m 9\u001b[39m CMCC-ESM2       3\u001b[4m5\u001b[24m\u001b[4m4\u001b[24m\u001b[4m1\u001b[24m230\n",
      "\u001b[90m10\u001b[39m combined       62\u001b[4m5\u001b[24m\u001b[4m1\u001b[24m\u001b[4m3\u001b[24m863\n",
      "\u001b[90m# … with 19 more rows\u001b[39m\n",
      "Time difference of 1.235068 mins\n",
      "CPU times: user 25.1 s, sys: 1min 5s, total: 1min 30s\n",
      "Wall time: 1min 17s\n"
     ]
    }
   ],
   "source": [
    "%%time\n",
    "%%R\n",
    "### her we are showing how much time it took to read a feather file what we wrote in python\n",
    "\n",
    "start_time <- Sys.time()\n",
    "r_table <- arrow::read_feather(\"figsharerainfall/combined_data.feather\")\n",
    "rview <- head(r_table)\n",
    "summary_df <- glimpse(r_table)\n",
    "model_count <- r_table %>% count(model)\n",
    "end_time <- Sys.time()\n",
    "print(class(r_table))\n",
    "print(rview)\n",
    "print(summary_df)\n",
    "print(model_count)\n",
    "print(end_time - start_time)"
   ]
  },
  {
   "cell_type": "markdown",
   "id": "accurate-religious",
   "metadata": {},
   "source": [
    "#### Using Parquet File:"
   ]
  },
  {
   "cell_type": "code",
   "execution_count": 33,
   "id": "invisible-hollywood",
   "metadata": {},
   "outputs": [
    {
     "name": "stdout",
     "output_type": "stream",
     "text": [
      "Rows: 125,027,726\n",
      "Columns: 7\n",
      "$ time            \u001b[3m\u001b[90m<dttm>\u001b[39m\u001b[23m 1889-01-01 04:00:00, 1889-01-02 04:00:00, 1889-01-03 …\n",
      "$ lat_min         \u001b[3m\u001b[90m<dbl>\u001b[39m\u001b[23m -35.43987, -35.43987, -35.43987, -35.43987, -35.43987,…\n",
      "$ lat_max         \u001b[3m\u001b[90m<dbl>\u001b[39m\u001b[23m -33.57462, -33.57462, -33.57462, -33.57462, -33.57462,…\n",
      "$ lon_min         \u001b[3m\u001b[90m<dbl>\u001b[39m\u001b[23m 141.5625, 141.5625, 141.5625, 141.5625, 141.5625, 141.…\n",
      "$ lon_max         \u001b[3m\u001b[90m<dbl>\u001b[39m\u001b[23m 143.4375, 143.4375, 143.4375, 143.4375, 143.4375, 143.…\n",
      "$ `rain (mm/day)` \u001b[3m\u001b[90m<dbl>\u001b[39m\u001b[23m 4.244226e-13, 4.217326e-13, 4.498125e-13, 4.251282e-13…\n",
      "$ model           \u001b[3m\u001b[90m<chr>\u001b[39m\u001b[23m \"MPI-ESM-1-2-HAM\", \"MPI-ESM-1-2-HAM\", \"MPI-ESM-1-2-HAM…\n",
      "[1] \"tbl_df\"     \"tbl\"        \"data.frame\"\n",
      "\u001b[90m# A tibble: 6 x 7\u001b[39m\n",
      "  time                lat_min lat_max lon_min lon_max `rain (mm/day)` model     \n",
      "  \u001b[3m\u001b[90m<dttm>\u001b[39m\u001b[23m                \u001b[3m\u001b[90m<dbl>\u001b[39m\u001b[23m   \u001b[3m\u001b[90m<dbl>\u001b[39m\u001b[23m   \u001b[3m\u001b[90m<dbl>\u001b[39m\u001b[23m   \u001b[3m\u001b[90m<dbl>\u001b[39m\u001b[23m           \u001b[3m\u001b[90m<dbl>\u001b[39m\u001b[23m \u001b[3m\u001b[90m<chr>\u001b[39m\u001b[23m     \n",
      "\u001b[90m1\u001b[39m 1889-01-01 \u001b[90m04:00:00\u001b[39m   -\u001b[31m35\u001b[39m\u001b[31m.\u001b[39m\u001b[31m4\u001b[39m   -\u001b[31m33\u001b[39m\u001b[31m.\u001b[39m\u001b[31m6\u001b[39m    142.    143.        4.24\u001b[90me\u001b[39m\u001b[31m-13\u001b[39m MPI-ESM-1…\n",
      "\u001b[90m2\u001b[39m 1889-01-02 \u001b[90m04:00:00\u001b[39m   -\u001b[31m35\u001b[39m\u001b[31m.\u001b[39m\u001b[31m4\u001b[39m   -\u001b[31m33\u001b[39m\u001b[31m.\u001b[39m\u001b[31m6\u001b[39m    142.    143.        4.22\u001b[90me\u001b[39m\u001b[31m-13\u001b[39m MPI-ESM-1…\n",
      "\u001b[90m3\u001b[39m 1889-01-03 \u001b[90m04:00:00\u001b[39m   -\u001b[31m35\u001b[39m\u001b[31m.\u001b[39m\u001b[31m4\u001b[39m   -\u001b[31m33\u001b[39m\u001b[31m.\u001b[39m\u001b[31m6\u001b[39m    142.    143.        4.50\u001b[90me\u001b[39m\u001b[31m-13\u001b[39m MPI-ESM-1…\n",
      "\u001b[90m4\u001b[39m 1889-01-04 \u001b[90m04:00:00\u001b[39m   -\u001b[31m35\u001b[39m\u001b[31m.\u001b[39m\u001b[31m4\u001b[39m   -\u001b[31m33\u001b[39m\u001b[31m.\u001b[39m\u001b[31m6\u001b[39m    142.    143.        4.25\u001b[90me\u001b[39m\u001b[31m-13\u001b[39m MPI-ESM-1…\n",
      "\u001b[90m5\u001b[39m 1889-01-05 \u001b[90m04:00:00\u001b[39m   -\u001b[31m35\u001b[39m\u001b[31m.\u001b[39m\u001b[31m4\u001b[39m   -\u001b[31m33\u001b[39m\u001b[31m.\u001b[39m\u001b[31m6\u001b[39m    142.    143.        4.27\u001b[90me\u001b[39m\u001b[31m-13\u001b[39m MPI-ESM-1…\n",
      "\u001b[90m6\u001b[39m 1889-01-06 \u001b[90m04:00:00\u001b[39m   -\u001b[31m35\u001b[39m\u001b[31m.\u001b[39m\u001b[31m4\u001b[39m   -\u001b[31m33\u001b[39m\u001b[31m.\u001b[39m\u001b[31m6\u001b[39m    142.    143.        4.20\u001b[90me\u001b[39m\u001b[31m-13\u001b[39m MPI-ESM-1…\n",
      "\u001b[90m# A tibble: 125,027,726 x 7\u001b[39m\n",
      "   time                lat_min lat_max lon_min lon_max `rain (mm/day)` model    \n",
      "   \u001b[3m\u001b[90m<dttm>\u001b[39m\u001b[23m                \u001b[3m\u001b[90m<dbl>\u001b[39m\u001b[23m   \u001b[3m\u001b[90m<dbl>\u001b[39m\u001b[23m   \u001b[3m\u001b[90m<dbl>\u001b[39m\u001b[23m   \u001b[3m\u001b[90m<dbl>\u001b[39m\u001b[23m           \u001b[3m\u001b[90m<dbl>\u001b[39m\u001b[23m \u001b[3m\u001b[90m<chr>\u001b[39m\u001b[23m    \n",
      "\u001b[90m 1\u001b[39m 1889-01-01 \u001b[90m04:00:00\u001b[39m   -\u001b[31m35\u001b[39m\u001b[31m.\u001b[39m\u001b[31m4\u001b[39m   -\u001b[31m33\u001b[39m\u001b[31m.\u001b[39m\u001b[31m6\u001b[39m    142.    143.        4.24\u001b[90me\u001b[39m\u001b[31m-13\u001b[39m MPI-ESM-…\n",
      "\u001b[90m 2\u001b[39m 1889-01-02 \u001b[90m04:00:00\u001b[39m   -\u001b[31m35\u001b[39m\u001b[31m.\u001b[39m\u001b[31m4\u001b[39m   -\u001b[31m33\u001b[39m\u001b[31m.\u001b[39m\u001b[31m6\u001b[39m    142.    143.        4.22\u001b[90me\u001b[39m\u001b[31m-13\u001b[39m MPI-ESM-…\n",
      "\u001b[90m 3\u001b[39m 1889-01-03 \u001b[90m04:00:00\u001b[39m   -\u001b[31m35\u001b[39m\u001b[31m.\u001b[39m\u001b[31m4\u001b[39m   -\u001b[31m33\u001b[39m\u001b[31m.\u001b[39m\u001b[31m6\u001b[39m    142.    143.        4.50\u001b[90me\u001b[39m\u001b[31m-13\u001b[39m MPI-ESM-…\n",
      "\u001b[90m 4\u001b[39m 1889-01-04 \u001b[90m04:00:00\u001b[39m   -\u001b[31m35\u001b[39m\u001b[31m.\u001b[39m\u001b[31m4\u001b[39m   -\u001b[31m33\u001b[39m\u001b[31m.\u001b[39m\u001b[31m6\u001b[39m    142.    143.        4.25\u001b[90me\u001b[39m\u001b[31m-13\u001b[39m MPI-ESM-…\n",
      "\u001b[90m 5\u001b[39m 1889-01-05 \u001b[90m04:00:00\u001b[39m   -\u001b[31m35\u001b[39m\u001b[31m.\u001b[39m\u001b[31m4\u001b[39m   -\u001b[31m33\u001b[39m\u001b[31m.\u001b[39m\u001b[31m6\u001b[39m    142.    143.        4.27\u001b[90me\u001b[39m\u001b[31m-13\u001b[39m MPI-ESM-…\n",
      "\u001b[90m 6\u001b[39m 1889-01-06 \u001b[90m04:00:00\u001b[39m   -\u001b[31m35\u001b[39m\u001b[31m.\u001b[39m\u001b[31m4\u001b[39m   -\u001b[31m33\u001b[39m\u001b[31m.\u001b[39m\u001b[31m6\u001b[39m    142.    143.        4.20\u001b[90me\u001b[39m\u001b[31m-13\u001b[39m MPI-ESM-…\n",
      "\u001b[90m 7\u001b[39m 1889-01-07 \u001b[90m04:00:00\u001b[39m   -\u001b[31m35\u001b[39m\u001b[31m.\u001b[39m\u001b[31m4\u001b[39m   -\u001b[31m33\u001b[39m\u001b[31m.\u001b[39m\u001b[31m6\u001b[39m    142.    143.        4.19\u001b[90me\u001b[39m\u001b[31m-13\u001b[39m MPI-ESM-…\n",
      "\u001b[90m 8\u001b[39m 1889-01-08 \u001b[90m04:00:00\u001b[39m   -\u001b[31m35\u001b[39m\u001b[31m.\u001b[39m\u001b[31m4\u001b[39m   -\u001b[31m33\u001b[39m\u001b[31m.\u001b[39m\u001b[31m6\u001b[39m    142.    143.        4.56\u001b[90me\u001b[39m\u001b[31m-13\u001b[39m MPI-ESM-…\n",
      "\u001b[90m 9\u001b[39m 1889-01-09 \u001b[90m04:00:00\u001b[39m   -\u001b[31m35\u001b[39m\u001b[31m.\u001b[39m\u001b[31m4\u001b[39m   -\u001b[31m33\u001b[39m\u001b[31m.\u001b[39m\u001b[31m6\u001b[39m    142.    143.        2.53\u001b[90me\u001b[39m+ 0 MPI-ESM-…\n",
      "\u001b[90m10\u001b[39m 1889-01-10 \u001b[90m04:00:00\u001b[39m   -\u001b[31m35\u001b[39m\u001b[31m.\u001b[39m\u001b[31m4\u001b[39m   -\u001b[31m33\u001b[39m\u001b[31m.\u001b[39m\u001b[31m6\u001b[39m    142.    143.        4.12\u001b[90me\u001b[39m\u001b[31m- 2\u001b[39m MPI-ESM-…\n",
      "\u001b[90m# … with 125,027,716 more rows\u001b[39m\n",
      "\u001b[90m# A tibble: 29 x 2\u001b[39m\n",
      "   model                 n\n",
      "   \u001b[3m\u001b[90m<chr>\u001b[39m\u001b[23m             \u001b[3m\u001b[90m<int>\u001b[39m\u001b[23m\n",
      "\u001b[90m 1\u001b[39m ACCESS-CM2      1\u001b[4m9\u001b[24m\u001b[4m3\u001b[24m\u001b[4m2\u001b[24m840\n",
      "\u001b[90m 2\u001b[39m ACCESS-ESM1-5   1\u001b[4m6\u001b[24m\u001b[4m1\u001b[24m\u001b[4m0\u001b[24m700\n",
      "\u001b[90m 3\u001b[39m AWI-ESM-1-1-LR   \u001b[4m9\u001b[24m\u001b[4m6\u001b[24m\u001b[4m6\u001b[24m420\n",
      "\u001b[90m 4\u001b[39m BCC-CSM2-MR     3\u001b[4m0\u001b[24m\u001b[4m3\u001b[24m\u001b[4m5\u001b[24m340\n",
      "\u001b[90m 5\u001b[39m BCC-ESM1         \u001b[4m5\u001b[24m\u001b[4m5\u001b[24m\u001b[4m1\u001b[24m880\n",
      "\u001b[90m 6\u001b[39m CanESM5          \u001b[4m5\u001b[24m\u001b[4m5\u001b[24m\u001b[4m1\u001b[24m880\n",
      "\u001b[90m 7\u001b[39m CMCC-CM2-HR4    3\u001b[4m5\u001b[24m\u001b[4m4\u001b[24m\u001b[4m1\u001b[24m230\n",
      "\u001b[90m 8\u001b[39m CMCC-CM2-SR5    3\u001b[4m5\u001b[24m\u001b[4m4\u001b[24m\u001b[4m1\u001b[24m230\n",
      "\u001b[90m 9\u001b[39m CMCC-ESM2       3\u001b[4m5\u001b[24m\u001b[4m4\u001b[24m\u001b[4m1\u001b[24m230\n",
      "\u001b[90m10\u001b[39m combined       62\u001b[4m5\u001b[24m\u001b[4m1\u001b[24m\u001b[4m3\u001b[24m863\n",
      "\u001b[90m# … with 19 more rows\u001b[39m\n",
      "Time difference of 56.47791 secs\n",
      "CPU times: user 28.1 s, sys: 40.7 s, total: 1min 8s\n",
      "Wall time: 59.4 s\n"
     ]
    }
   ],
   "source": [
    "%%time\n",
    "%%R\n",
    "start_time <- Sys.time()\n",
    "r_table <- arrow::read_parquet(\"figsharerainfall/combined_data.parquet\")\n",
    "view <- head(r_table)\n",
    "summary_df <- glimpse(r_table)\n",
    "model_count <- r_table %>% count(model)\n",
    "end_time <- Sys.time()\n",
    "print(class(r_table))\n",
    "print(view)\n",
    "print(summary_df)\n",
    "print(model_count)\n",
    "print(end_time - start_time)"
   ]
  },
  {
   "cell_type": "markdown",
   "id": "close-skiing",
   "metadata": {},
   "source": [
    "\n",
    "|     Charles                       | Emd Time - Start Time | CPU Time | Wall Time |\n",
    "|:--------------------------:|:-----------:|:--------:|:---------:|\n",
    "| Using Arrow Object |  7.617s          | 20.1s         |   7.79s        |\n",
    "| Using Feather File |  22.245s           |  44.5s        |   23.1s        |\n",
    "|  Using Parquet File  |  12.161s         |  20.3s        |  13.4s         |"
   ]
  },
  {
   "cell_type": "markdown",
   "id": "returning-consequence",
   "metadata": {},
   "source": [
    "|     Neel                      | Emd Time - Start Time | CPU Time | Wall Time |\n",
    "|:--------------------------:|:-----------:|:--------:|:---------:|\n",
    "| Using Arrow Object |  34.69s          | 15.2s         |   35.3s        |\n",
    "| Using Feather File |  74.104s           |  25.1s        |   77s        |\n",
    "|  Using Parquet File  |  56.478s         |  28.1s        |  59.4s         |"
   ]
  },
  {
   "cell_type": "markdown",
   "id": "vulnerable-youth",
   "metadata": {},
   "source": [
    "### 4.2 Observations"
   ]
  },
  {
   "cell_type": "markdown",
   "id": "serious-mobile",
   "metadata": {},
   "source": [
    "After comparing these 3 methods:\n",
    "\n",
    "- We can see that is quite a bit of variability between the 3 methods in terms of time. \n",
    "\n",
    "- All three of these methods are much more efficient that using csvs in terms of memory and speed. \n",
    "\n",
    "- It should be noted that rpy2-arrow is still fairly new, there is a lot of potential for this method of conversion."
   ]
  },
  {
   "cell_type": "markdown",
   "id": "eleven-forest",
   "metadata": {},
   "source": [
    "We will pick parquet file format to transfer data from python to R. The reasons are listed as follows:"
   ]
  },
  {
   "cell_type": "markdown",
   "id": "confused-freeware",
   "metadata": {},
   "source": [
    "- The speed with which the file was created was quite fast.\n",
    "- The memory that the file takes is significantly less than the feather file and arrow table. \n",
    "- The time that it takes to transfer the data to R is reasonable (comparable to the other methods)\n",
    "- The columnar properties of the parquet file would make it quite easy to use in the future. "
   ]
  },
  {
   "cell_type": "code",
   "execution_count": null,
   "id": "victorian-turtle",
   "metadata": {},
   "outputs": [],
   "source": []
  }
 ],
 "metadata": {
  "kernelspec": {
   "display_name": "Python [conda env:525]",
   "language": "python",
   "name": "conda-env-525-py"
  },
  "language_info": {
   "codemirror_mode": {
    "name": "ipython",
    "version": 3
   },
   "file_extension": ".py",
   "mimetype": "text/x-python",
   "name": "python",
   "nbconvert_exporter": "python",
   "pygments_lexer": "ipython3",
   "version": "3.9.2"
  }
 },
 "nbformat": 4,
 "nbformat_minor": 5
}
