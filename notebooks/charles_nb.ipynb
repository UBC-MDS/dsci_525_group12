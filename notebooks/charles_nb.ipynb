{
 "cells": [
  {
   "cell_type": "markdown",
   "id": "suburban-officer",
   "metadata": {},
   "source": [
    "# Milestone 1: Tackling big data on your laptop"
   ]
  },
  {
   "cell_type": "markdown",
   "id": "expressed-writer",
   "metadata": {},
   "source": [
    "## Authors: Neel Phaterpekar, Arash Shamseddini and Charles Suresh"
   ]
  },
  {
   "cell_type": "code",
   "execution_count": 1,
   "id": "perceived-nursing",
   "metadata": {},
   "outputs": [],
   "source": [
    "import requests\n",
    "import json\n",
    "import os\n",
    "from urllib.request import urlretrieve\n",
    "import zipfile\n",
    "import glob\n",
    "import pandas as pd\n",
    "import re\n",
    "from memory_profiler import memory_usage\n",
    "import pyarrow.dataset as ds\n",
    "import pyarrow.feather as feather\n",
    "import pyarrow.parquet as pq\n",
    "import dask.dataframe as dd\n",
    "import seaborn as sns\n",
    "import matplotlib.pyplot as plt\n",
    "import rpy2_arrow.pyarrow_rarrow as pyra"
   ]
  },
  {
   "cell_type": "code",
   "execution_count": 2,
   "id": "vital-jefferson",
   "metadata": {},
   "outputs": [],
   "source": [
    "%load_ext rpy2.ipython\n",
    "%load_ext memory_profiler"
   ]
  },
  {
   "cell_type": "code",
   "execution_count": 3,
   "id": "animal-honolulu",
   "metadata": {},
   "outputs": [
    {
     "name": "stderr",
     "output_type": "stream",
     "text": [
      "R[write to console]: \n",
      "Attaching package: ‘dplyr’\n",
      "\n",
      "\n",
      "R[write to console]: The following objects are masked from ‘package:stats’:\n",
      "\n",
      "    filter, lag\n",
      "\n",
      "\n",
      "R[write to console]: The following objects are masked from ‘package:base’:\n",
      "\n",
      "    intersect, setdiff, setequal, union\n",
      "\n",
      "\n"
     ]
    }
   ],
   "source": [
    "%%R\n",
    "library(dplyr)\n",
    "library(arrow)"
   ]
  },
  {
   "cell_type": "markdown",
   "id": "genetic-mediterranean",
   "metadata": {},
   "source": [
    "## 1. Downloading the data"
   ]
  },
  {
   "cell_type": "markdown",
   "id": "diagnostic-month",
   "metadata": {},
   "source": [
    "### 1.1 Download data from figshare"
   ]
  },
  {
   "cell_type": "code",
   "execution_count": 4,
   "id": "northern-camera",
   "metadata": {},
   "outputs": [],
   "source": [
    "article_id = 14096681  # this is the unique identifier of the article on figshare\n",
    "url = f\"https://api.figshare.com/v2/articles/{article_id}\"\n",
    "headers = {\"Content-Type\": \"application/json\"}\n",
    "output_directory = \"figsharerainfall/\""
   ]
  },
  {
   "cell_type": "code",
   "execution_count": 5,
   "id": "weird-following",
   "metadata": {},
   "outputs": [
    {
     "name": "stdout",
     "output_type": "stream",
     "text": [
      "peak memory: 328.65 MiB, increment: 0.15 MiB\n",
      "CPU times: user 75.5 ms, sys: 39.3 ms, total: 115 ms\n",
      "Wall time: 3.08 s\n"
     ]
    },
    {
     "data": {
      "text/plain": [
       "[{'is_link_only': False,\n",
       "  'name': 'daily_rainfall_2014.png',\n",
       "  'supplied_md5': 'fd32a2ffde300a31f8d63b1825d47e5e',\n",
       "  'computed_md5': 'fd32a2ffde300a31f8d63b1825d47e5e',\n",
       "  'id': 26579150,\n",
       "  'download_url': 'https://ndownloader.figshare.com/files/26579150',\n",
       "  'size': 58863},\n",
       " {'is_link_only': False,\n",
       "  'name': 'environment.yml',\n",
       "  'supplied_md5': '060b2020017eed93a1ee7dd8c65b2f34',\n",
       "  'computed_md5': '060b2020017eed93a1ee7dd8c65b2f34',\n",
       "  'id': 26579171,\n",
       "  'download_url': 'https://ndownloader.figshare.com/files/26579171',\n",
       "  'size': 192},\n",
       " {'is_link_only': False,\n",
       "  'name': 'README.md',\n",
       "  'supplied_md5': '61858c6cc0e6a6d6663a7e4c75bbd88c',\n",
       "  'computed_md5': '61858c6cc0e6a6d6663a7e4c75bbd88c',\n",
       "  'id': 26586554,\n",
       "  'download_url': 'https://ndownloader.figshare.com/files/26586554',\n",
       "  'size': 5422},\n",
       " {'is_link_only': False,\n",
       "  'name': 'data.zip',\n",
       "  'supplied_md5': 'b517383f76e77bd03755a63a8ff83ee9',\n",
       "  'computed_md5': 'b517383f76e77bd03755a63a8ff83ee9',\n",
       "  'id': 26766812,\n",
       "  'download_url': 'https://ndownloader.figshare.com/files/26766812',\n",
       "  'size': 814041183},\n",
       " {'is_link_only': False,\n",
       "  'name': 'get_data.py',\n",
       "  'supplied_md5': '7829028495fd9dec9680ea013474afa6',\n",
       "  'computed_md5': '7829028495fd9dec9680ea013474afa6',\n",
       "  'id': 26766815,\n",
       "  'download_url': 'https://ndownloader.figshare.com/files/26766815',\n",
       "  'size': 4113}]"
      ]
     },
     "execution_count": 5,
     "metadata": {},
     "output_type": "execute_result"
    }
   ],
   "source": [
    "%%time\n",
    "%memit\n",
    "response = requests.request(\"GET\", url, headers=headers)\n",
    "data = json.loads(response.text)  # this contains all the articles data, feel free to check it out\n",
    "files = data[\"files\"]             # this is just the data about the files, which is what we want\n",
    "files"
   ]
  },
  {
   "cell_type": "code",
   "execution_count": 6,
   "id": "declared-brick",
   "metadata": {},
   "outputs": [
    {
     "name": "stdout",
     "output_type": "stream",
     "text": [
      "CPU times: user 2.38 s, sys: 2.08 s, total: 4.46 s\n",
      "Wall time: 59.9 s\n"
     ]
    }
   ],
   "source": [
    "%%time\n",
    "files_to_dl = [\"data.zip\"] # need only this zip file\n",
    "for file in files:\n",
    "    if file[\"name\"] in files_to_dl:\n",
    "        os.makedirs(output_directory, exist_ok=True) # create the folder if not exists\n",
    "        urlretrieve(file[\"download_url\"], output_directory + file[\"name\"])"
   ]
  },
  {
   "cell_type": "markdown",
   "id": "loaded-franklin",
   "metadata": {},
   "source": [
    "### 1.2 Unzipping Files "
   ]
  },
  {
   "cell_type": "code",
   "execution_count": 7,
   "id": "informed-component",
   "metadata": {},
   "outputs": [
    {
     "name": "stdout",
     "output_type": "stream",
     "text": [
      "peak memory: 331.91 MiB, increment: 0.00 MiB\n",
      "CPU times: user 15.3 s, sys: 2.27 s, total: 17.5 s\n",
      "Wall time: 19.9 s\n"
     ]
    }
   ],
   "source": [
    "%%time\n",
    "%memit\n",
    "with zipfile.ZipFile(os.path.join(output_directory, \"data.zip\"), 'r') as f:\n",
    "    f.extractall(output_directory)"
   ]
  },
  {
   "cell_type": "markdown",
   "id": "suspended-elephant",
   "metadata": {},
   "source": [
    "### 1.3 Observations"
   ]
  },
  {
   "cell_type": "markdown",
   "id": "sound-mortality",
   "metadata": {},
   "source": [
    "\n",
    "| Contributors | Downloading wall time  | Extracting wall time  | \n",
    "|:---:|:-----:|:--------:|\n",
    "| Neel   |   1min 10s   |  23 s      | \n",
    "| Arash   | 10min 12s    | 26.6 s         |  \n",
    "| Charles   | 59.9s   |    19.9s      |\n"
   ]
  },
  {
   "cell_type": "markdown",
   "id": "packed-wrestling",
   "metadata": {},
   "source": [
    "> Suprisingly Arash's time usage for downloading the data.zip was significantly larger than those for Neel and Charles."
   ]
  },
  {
   "cell_type": "markdown",
   "id": "african-format",
   "metadata": {},
   "source": [
    "## 2. Combining data CSVs"
   ]
  },
  {
   "cell_type": "code",
   "execution_count": 8,
   "id": "passing-floor",
   "metadata": {},
   "outputs": [
    {
     "name": "stdout",
     "output_type": "stream",
     "text": [
      "peak memory: 329.69 MiB, increment: 0.00 MiB\n",
      "CPU times: user 5min 18s, sys: 11 s, total: 5min 29s\n",
      "Wall time: 5min 32s\n"
     ]
    }
   ],
   "source": [
    "%%time\n",
    "%memit\n",
    "\n",
    "files = glob.glob('figsharerainfall/*.csv')\n",
    "\n",
    "df = pd.concat((pd.read_csv(file, header=0, index_col=0)\n",
    "                .assign(model=file[file.rfind(\"\\\\\")+1:file.index(\"_daily\")]) # Discuss this with others\n",
    "                for file in files))\n",
    "\n",
    "df.to_csv(\"figsharerainfall/combined_data.csv\")"
   ]
  },
  {
   "cell_type": "code",
   "execution_count": 9,
   "id": "complex-honduras",
   "metadata": {},
   "outputs": [
    {
     "name": "stdout",
     "output_type": "stream",
     "text": [
      "6.6G\tfigsharerainfall/combined_data.csv\n"
     ]
    }
   ],
   "source": [
    "%%sh\n",
    "du -sh figsharerainfall/combined_data.csv"
   ]
  },
  {
   "cell_type": "markdown",
   "id": "bored-deficit",
   "metadata": {},
   "source": [
    "### 2.1. Summary table"
   ]
  },
  {
   "cell_type": "markdown",
   "id": "dated-evanescence",
   "metadata": {},
   "source": [
    "| Contributors | Combining data wall time  | combined_data.csv memory usage  | \n",
    "|:---:|:-----:|:--------:|\n",
    "| Neel   |   6min 51s   |  5.6G      | \n",
    "| Arash   | 6min 10s    | 5.7G         |  \n",
    "| Charles   | 5min 32s   |   6.6G       |\n"
   ]
  },
  {
   "cell_type": "markdown",
   "id": "subjective-failure",
   "metadata": {},
   "source": [
    "### 2.2. Discussing observations"
   ]
  },
  {
   "cell_type": "markdown",
   "id": "certain-display",
   "metadata": {},
   "source": [
    "> Both run times and memory usages on different machines within the team are pretty similar\n",
    "\n",
    "> Time usage: 5-7 min\n",
    "\n",
    "> Memory usage: 5.5-6.6G"
   ]
  },
  {
   "cell_type": "markdown",
   "id": "imported-mystery",
   "metadata": {},
   "source": [
    "## 3. Load the combined CSV to memory and performing a simple EDA"
   ]
  },
  {
   "cell_type": "code",
   "execution_count": 10,
   "id": "hungry-given",
   "metadata": {},
   "outputs": [
    {
     "name": "stdout",
     "output_type": "stream",
     "text": [
      "peak memory: 9503.02 MiB, increment: 5726.89 MiB\n",
      "CPU times: user 54.3 s, sys: 9.78 s, total: 1min 4s\n",
      "Wall time: 1min 6s\n"
     ]
    }
   ],
   "source": [
    "%%time\n",
    "%%memit\n",
    "df_float64 = pd.read_csv(\"figsharerainfall/combined_data.csv\")"
   ]
  },
  {
   "cell_type": "markdown",
   "id": "solar-occasion",
   "metadata": {},
   "source": [
    "### 3.1.1 Investigating Memory Reduction Approaches"
   ]
  },
  {
   "cell_type": "markdown",
   "id": "proved-mauritius",
   "metadata": {},
   "source": [
    "#### Changing dtype of data:"
   ]
  },
  {
   "cell_type": "code",
   "execution_count": 11,
   "id": "otherwise-congress",
   "metadata": {},
   "outputs": [],
   "source": [
    "df_float32 = df_float64.astype('float32', errors='ignore')"
   ]
  },
  {
   "cell_type": "code",
   "execution_count": 12,
   "id": "rental-watershed",
   "metadata": {},
   "outputs": [
    {
     "name": "stdout",
     "output_type": "stream",
     "text": [
      "Memory usage with float64: 3500.78 MB\n",
      "Memory usage with float32: 2250.50 MB\n"
     ]
    }
   ],
   "source": [
    "print(f\"Memory usage with float64: {df_float64.memory_usage().sum() / 1e6:.2f} MB\")\n",
    "print(f\"Memory usage with float32: {df_float32.memory_usage().sum() / 1e6:.2f} MB\")"
   ]
  },
  {
   "cell_type": "markdown",
   "id": "introductory-firewall",
   "metadata": {},
   "source": [
    "> Memory usage with float32 (2250.50 MB) is much lower than the memory usage with float64 (3500.78 MB)."
   ]
  },
  {
   "cell_type": "markdown",
   "id": "theoretical-flash",
   "metadata": {},
   "source": [
    "####  Using Dask:"
   ]
  },
  {
   "cell_type": "code",
   "execution_count": 13,
   "id": "portuguese-crest",
   "metadata": {},
   "outputs": [
    {
     "name": "stdout",
     "output_type": "stream",
     "text": [
      "peak memory: 8389.09 MiB, increment: -9.72 MiB\n",
      "CPU times: user 109 ms, sys: 204 ms, total: 313 ms\n",
      "Wall time: 1.7 s\n"
     ]
    }
   ],
   "source": [
    "%%time\n",
    "%%memit\n",
    "ddf = dd.read_csv('figsharerainfall/combined_data.csv', blocksize=25e6)"
   ]
  },
  {
   "cell_type": "code",
   "execution_count": 14,
   "id": "collected-defense",
   "metadata": {},
   "outputs": [],
   "source": [
    "cols = ['lat_min', 'lat_max', 'lon_min', 'lon_max', 'rain (mm/day)']\n",
    "ddf[cols] = ddf[cols].astype('float32')"
   ]
  },
  {
   "cell_type": "markdown",
   "id": "sealed-tower",
   "metadata": {},
   "source": [
    "### 3.1.2 Python Simple EDA"
   ]
  },
  {
   "cell_type": "markdown",
   "id": "worldwide-radius",
   "metadata": {},
   "source": [
    "#### 3.1.2.1 Value Counts of `model`:"
   ]
  },
  {
   "cell_type": "markdown",
   "id": "entitled-packet",
   "metadata": {},
   "source": [
    "##### Pandas DataFrame:"
   ]
  },
  {
   "cell_type": "code",
   "execution_count": 15,
   "id": "lightweight-holocaust",
   "metadata": {},
   "outputs": [
    {
     "name": "stdout",
     "output_type": "stream",
     "text": [
      "model                            \n",
      "figsharerainfall/MPI-ESM1-2-HR       5154240\n",
      "figsharerainfall/TaiESM1             3541230\n",
      "figsharerainfall/CMCC-CM2-HR4        3541230\n",
      "figsharerainfall/CMCC-CM2-SR5        3541230\n",
      "figsharerainfall/CMCC-ESM2           3541230\n",
      "figsharerainfall/NorESM2-MM          3541230\n",
      "figsharerainfall/SAM0-UNICON         3541153\n",
      "figsharerainfall/FGOALS-f3-L         3219300\n",
      "figsharerainfall/GFDL-CM4            3219300\n",
      "figsharerainfall/GFDL-ESM4           3219300\n",
      "figsharerainfall/EC-Earth3-Veg-LR    3037320\n",
      "figsharerainfall/MRI-ESM2-0          3037320\n",
      "figsharerainfall/BCC-CSM2-MR         3035340\n",
      "figsharerainfall/MIROC6              2070900\n",
      "figsharerainfall/ACCESS-CM2          1932840\n",
      "figsharerainfall/ACCESS-ESM1-5       1610700\n",
      "figsharerainfall/INM-CM4-8           1609650\n",
      "figsharerainfall/INM-CM5-0           1609650\n",
      "figsharerainfall/KIOST-ESM           1287720\n",
      "figsharerainfall/FGOALS-g3           1287720\n",
      "figsharerainfall/MPI-ESM-1-2-HAM      966420\n",
      "figsharerainfall/MPI-ESM1-2-LR        966420\n",
      "figsharerainfall/NESM3                966420\n",
      "figsharerainfall/AWI-ESM-1-1-LR       966420\n",
      "figsharerainfall/NorESM2-LM           919800\n",
      "figsharerainfall/CanESM5              551880\n",
      "figsharerainfall/BCC-ESM1             551880\n",
      "figsharerainfall/observed              46020\n",
      "dtype: int64\n",
      "peak memory: 9312.58 MiB, increment: 1471.69 MiB\n",
      "CPU times: user 4.45 s, sys: 717 ms, total: 5.16 s\n",
      "Wall time: 5.8 s\n"
     ]
    }
   ],
   "source": [
    "%%time\n",
    "%%memit\n",
    "print(df_float32[[\"model\"]].value_counts())"
   ]
  },
  {
   "cell_type": "markdown",
   "id": "precious-cream",
   "metadata": {},
   "source": [
    "##### Dask DataFrame:"
   ]
  },
  {
   "cell_type": "code",
   "execution_count": 16,
   "id": "least-still",
   "metadata": {},
   "outputs": [
    {
     "name": "stdout",
     "output_type": "stream",
     "text": [
      "figsharerainfall/MPI-ESM1-2-HR       5154240\n",
      "figsharerainfall/TaiESM1             3541230\n",
      "figsharerainfall/CMCC-CM2-HR4        3541230\n",
      "figsharerainfall/CMCC-CM2-SR5        3541230\n",
      "figsharerainfall/CMCC-ESM2           3541230\n",
      "figsharerainfall/NorESM2-MM          3541230\n",
      "figsharerainfall/SAM0-UNICON         3541153\n",
      "figsharerainfall/FGOALS-f3-L         3219300\n",
      "figsharerainfall/GFDL-CM4            3219300\n",
      "figsharerainfall/GFDL-ESM4           3219300\n",
      "figsharerainfall/EC-Earth3-Veg-LR    3037320\n",
      "figsharerainfall/MRI-ESM2-0          3037320\n",
      "figsharerainfall/BCC-CSM2-MR         3035340\n",
      "figsharerainfall/MIROC6              2070900\n",
      "figsharerainfall/ACCESS-CM2          1932840\n",
      "figsharerainfall/ACCESS-ESM1-5       1610700\n",
      "figsharerainfall/INM-CM4-8           1609650\n",
      "figsharerainfall/INM-CM5-0           1609650\n",
      "figsharerainfall/KIOST-ESM           1287720\n",
      "figsharerainfall/FGOALS-g3           1287720\n",
      "figsharerainfall/MPI-ESM-1-2-HAM      966420\n",
      "figsharerainfall/MPI-ESM1-2-LR        966420\n",
      "figsharerainfall/NESM3                966420\n",
      "figsharerainfall/AWI-ESM-1-1-LR       966420\n",
      "figsharerainfall/NorESM2-LM           919800\n",
      "figsharerainfall/CanESM5              551880\n",
      "figsharerainfall/BCC-ESM1             551880\n",
      "figsharerainfall/observed              46020\n",
      "Name: model, dtype: int64\n",
      "peak memory: 8822.06 MiB, increment: 940.23 MiB\n",
      "CPU times: user 1min 41s, sys: 31.3 s, total: 2min 12s\n",
      "Wall time: 45.8 s\n"
     ]
    }
   ],
   "source": [
    "%%time\n",
    "%%memit\n",
    "print(ddf[\"model\"].value_counts().compute())"
   ]
  },
  {
   "cell_type": "markdown",
   "id": "mysterious-roommate",
   "metadata": {},
   "source": [
    "##### Loading in Chunks:"
   ]
  },
  {
   "cell_type": "code",
   "execution_count": 17,
   "id": "detected-speech",
   "metadata": {},
   "outputs": [
    {
     "name": "stdout",
     "output_type": "stream",
     "text": [
      "figsharerainfall/ACCESS-CM2          1932840\n",
      "figsharerainfall/ACCESS-ESM1-5       1610700\n",
      "figsharerainfall/AWI-ESM-1-1-LR       966420\n",
      "figsharerainfall/BCC-CSM2-MR         3035340\n",
      "figsharerainfall/BCC-ESM1             551880\n",
      "figsharerainfall/CMCC-CM2-HR4        3541230\n",
      "figsharerainfall/CMCC-CM2-SR5        3541230\n",
      "figsharerainfall/CMCC-ESM2           3541230\n",
      "figsharerainfall/CanESM5              551880\n",
      "figsharerainfall/EC-Earth3-Veg-LR    3037320\n",
      "figsharerainfall/FGOALS-f3-L         3219300\n",
      "figsharerainfall/FGOALS-g3           1287720\n",
      "figsharerainfall/GFDL-CM4            3219300\n",
      "figsharerainfall/GFDL-ESM4           3219300\n",
      "figsharerainfall/INM-CM4-8           1609650\n",
      "figsharerainfall/INM-CM5-0           1609650\n",
      "figsharerainfall/KIOST-ESM           1287720\n",
      "figsharerainfall/MIROC6              2070900\n",
      "figsharerainfall/MPI-ESM-1-2-HAM      966420\n",
      "figsharerainfall/MPI-ESM1-2-HR       5154240\n",
      "figsharerainfall/MPI-ESM1-2-LR        966420\n",
      "figsharerainfall/MRI-ESM2-0          3037320\n",
      "figsharerainfall/NESM3                966420\n",
      "figsharerainfall/NorESM2-LM           919800\n",
      "figsharerainfall/NorESM2-MM          3541230\n",
      "figsharerainfall/SAM0-UNICON         3541153\n",
      "figsharerainfall/TaiESM1             3541230\n",
      "figsharerainfall/observed              46020\n",
      "dtype: int64\n",
      "peak memory: 6144.35 MiB, increment: 1704.66 MiB\n",
      "CPU times: user 1min 1s, sys: 6.25 s, total: 1min 7s\n",
      "Wall time: 1min 8s\n"
     ]
    }
   ],
   "source": [
    "%%time\n",
    "%%memit\n",
    "counts = pd.Series(dtype=int)\n",
    "for chunk in pd.read_csv(\"figsharerainfall/combined_data.csv\", chunksize=10_000_000):\n",
    "    counts = counts.add(chunk[\"model\"].value_counts(), fill_value=0)\n",
    "print(counts.astype(int))"
   ]
  },
  {
   "cell_type": "markdown",
   "id": "regulated-advantage",
   "metadata": {},
   "source": [
    "##### Observations:\n",
    "\n",
    "|                  | Peak Memory | CPU Time | Wall Time |\n",
    "|:----------------:|:-----------:|:--------:|:---------:|\n",
    "| Pandas DataFrame |9312.58 MB  |  5.16s     |   5.16s        |\n",
    "|  Dask DataFrame  | 8822.06 MB |2min 12s     | 45.8          |\n",
    "|  Loading in Chunks| 6144.35 MB  |    1min 7s   |   1min 8s    |\n",
    "\n",
    "When calling `value_counts` function:\n",
    "- By using Dask DataFrame over Pandas DataFrame, we see that the Peak Memory drops by a considerable amount\n",
    "- However, the CPU and Wall Times are quite a bit higher when using Dask DataFrame over Pandas DataFrame\n",
    "- Loading the data in chunks as Pandas DataFrame, has, by far, the lowest Peak Memory usage. However, the wall time is the highest of all the three methods considered here"
   ]
  },
  {
   "cell_type": "markdown",
   "id": "sudden-curve",
   "metadata": {},
   "source": [
    "#### 3.1.2.2 Summary statistics of Rainfall (mm/day) across Australia:"
   ]
  },
  {
   "cell_type": "markdown",
   "id": "placed-malta",
   "metadata": {},
   "source": [
    "##### Pandas DataFrame `float64`:"
   ]
  },
  {
   "cell_type": "code",
   "execution_count": 18,
   "id": "forbidden-colonial",
   "metadata": {},
   "outputs": [
    {
     "name": "stdout",
     "output_type": "stream",
     "text": [
      "       rain (mm/day)\n",
      "count   5.929456e+07\n",
      "mean    1.901827e+00\n",
      "std     5.588275e+00\n",
      "min    -3.807373e-12\n",
      "25%     3.876672e-06\n",
      "50%     6.161705e-02\n",
      "75%     1.021314e+00\n",
      "max     4.329395e+02\n",
      "peak memory: 7153.32 MiB, increment: 2504.13 MiB\n",
      "CPU times: user 3.38 s, sys: 1.6 s, total: 4.98 s\n",
      "Wall time: 5.69 s\n"
     ]
    }
   ],
   "source": [
    "%%time\n",
    "%%memit\n",
    "print(df_float64[['rain (mm/day)']].describe())"
   ]
  },
  {
   "cell_type": "markdown",
   "id": "productive-mailman",
   "metadata": {},
   "source": [
    "##### Pandas DataFrame `float32`:"
   ]
  },
  {
   "cell_type": "code",
   "execution_count": 19,
   "id": "painted-supervision",
   "metadata": {},
   "outputs": [
    {
     "name": "stdout",
     "output_type": "stream",
     "text": [
      "       rain (mm/day)\n",
      "count   5.929456e+07\n",
      "mean    1.901828e+00\n",
      "std     5.588274e+00\n",
      "min    -3.807373e-12\n",
      "25%     3.876672e-06\n",
      "50%     6.161705e-02\n",
      "75%     1.021314e+00\n",
      "max     4.329395e+02\n",
      "peak memory: 6199.48 MiB, increment: 1430.70 MiB\n",
      "CPU times: user 2.58 s, sys: 1.09 s, total: 3.66 s\n",
      "Wall time: 4.38 s\n"
     ]
    }
   ],
   "source": [
    "%%time\n",
    "%%memit\n",
    "print(df_float32[['rain (mm/day)']].describe())"
   ]
  },
  {
   "cell_type": "markdown",
   "id": "backed-yeast",
   "metadata": {},
   "source": [
    "##### Dask DataFrame `float32`:"
   ]
  },
  {
   "cell_type": "code",
   "execution_count": 20,
   "id": "common-portugal",
   "metadata": {},
   "outputs": [
    {
     "name": "stdout",
     "output_type": "stream",
     "text": [
      "       rain (mm/day)\n",
      "count   5.929456e+07\n",
      "mean    1.901827e+00\n",
      "std     5.588275e+00\n",
      "min    -3.807373e-12\n",
      "25%     4.191612e-03\n",
      "50%     2.911194e-01\n",
      "75%     3.923519e+00\n",
      "max     4.329395e+02\n",
      "peak memory: 6412.95 MiB, increment: 1405.80 MiB\n",
      "CPU times: user 1min 44s, sys: 36.4 s, total: 2min 20s\n",
      "Wall time: 44.8 s\n"
     ]
    }
   ],
   "source": [
    "%%time\n",
    "%%memit\n",
    "print(ddf[['rain (mm/day)']].describe().compute())"
   ]
  },
  {
   "cell_type": "markdown",
   "id": "herbal-oxide",
   "metadata": {},
   "source": [
    "##### Observations:\n",
    "\n",
    "|                            | Peak Memory | CPU Time | Wall Time |\n",
    "|:--------------------------:|:-----------:|:--------:|:---------:|\n",
    "| Pandas DataFrame `float64` |  7153.32 MB           | 4.98s         |  5.69s         |\n",
    "| Pandas DataFrame `float32` |  6199.48 MB           |   3.66s       | 4.38s          |\n",
    "|  Dask DataFrame `float32`  |   6412.95 MB          |   2min 20s      |  44.8s         |\n",
    "\n",
    "When calling the `describe` function:\n",
    "- The Peak Memory consumed is drops when using the Pandas DataFrame with `float32` numeric columns over the Pandas DataFrame with `float64` numeric columns\n",
    "- The CPU and Wall Times also drop when switching from the Pandas DataFrame with `float64` to the Pandas DataFrame with `float32` numeric columns\n",
    "- Interestingly, when compared with the Pandas DataFrame with `float32` numeric columns, the Dask DataFrame with `float32` numeric columns consumes more Peak Memory, and also has much higher CPU and Wall Times"
   ]
  },
  {
   "cell_type": "markdown",
   "id": "presidential-infrared",
   "metadata": {},
   "source": [
    "#### 3.1.2.3 BoxPlot of Rainfall (mm/day) across Australia:"
   ]
  },
  {
   "cell_type": "code",
   "execution_count": 21,
   "id": "wanted-purple",
   "metadata": {},
   "outputs": [],
   "source": [
    "sns.set_theme(style=\"whitegrid\")\n",
    "sns.set(rc={\"figure.figsize\": (15, 7.5)}, font_scale=1.25)"
   ]
  },
  {
   "cell_type": "markdown",
   "id": "minor-africa",
   "metadata": {},
   "source": [
    "##### Pandas DataFrame `float64`:"
   ]
  },
  {
   "cell_type": "code",
   "execution_count": 22,
   "id": "framed-appreciation",
   "metadata": {},
   "outputs": [
    {
     "name": "stdout",
     "output_type": "stream",
     "text": [
      "peak memory: 5824.61 MiB, increment: 1463.32 MiB\n",
      "CPU times: user 2.34 s, sys: 637 ms, total: 2.98 s\n",
      "Wall time: 3.66 s\n"
     ]
    },
    {
     "data": {
      "image/png": "[encoded data removed]",
      "text/plain": [
       "<Figure size 1080x540 with 1 Axes>"
      ]
     },
     "metadata": {},
     "output_type": "display_data"
    }
   ],
   "source": [
    "%%time\n",
    "%%memit\n",
    "sns.boxplot(x=df_float64['rain (mm/day)'], showfliers=False);\n",
    "plt.title(\"BoxPlot of Rainfall (mm/day) across Australia\");\n",
    "plt.xlabel(\"Rain (mm/day)\");"
   ]
  },
  {
   "cell_type": "markdown",
   "id": "statistical-obligation",
   "metadata": {},
   "source": [
    "##### Pandas DataFrame `float32`:"
   ]
  },
  {
   "cell_type": "code",
   "execution_count": 23,
   "id": "saving-preliminary",
   "metadata": {},
   "outputs": [
    {
     "name": "stdout",
     "output_type": "stream",
     "text": [
      "peak memory: 5213.86 MiB, increment: 641.83 MiB\n",
      "CPU times: user 1.92 s, sys: 362 ms, total: 2.28 s\n",
      "Wall time: 2.75 s\n"
     ]
    },
    {
     "data": {
      "image/png": "[encoded data removed]",
      "text/plain": [
       "<Figure size 1080x540 with 1 Axes>"
      ]
     },
     "metadata": {},
     "output_type": "display_data"
    }
   ],
   "source": [
    "%%time\n",
    "%%memit\n",
    "sns.boxplot(x=df_float32['rain (mm/day)'], showfliers=False);\n",
    "plt.title(\"BoxPlot of Rainfall (mm/day) across Australia\");\n",
    "plt.xlabel(\"Rain (mm/day)\");"
   ]
  },
  {
   "cell_type": "markdown",
   "id": "stuck-uniform",
   "metadata": {},
   "source": [
    "##### Dask DataFrame `float32`:"
   ]
  },
  {
   "cell_type": "code",
   "execution_count": 24,
   "id": "strategic-nepal",
   "metadata": {},
   "outputs": [
    {
     "name": "stdout",
     "output_type": "stream",
     "text": [
      "peak memory: 6539.55 MiB, increment: 2041.20 MiB\n",
      "CPU times: user 4min 43s, sys: 1min 33s, total: 6min 16s\n",
      "Wall time: 2min 3s\n"
     ]
    },
    {
     "data": {
      "image/png": "[encoded data removed]",
      "text/plain": [
       "<Figure size 1080x540 with 1 Axes>"
      ]
     },
     "metadata": {},
     "output_type": "display_data"
    }
   ],
   "source": [
    "%%time\n",
    "%%memit\n",
    "sns.boxplot(x=ddf['rain (mm/day)'], showfliers=False);\n",
    "plt.title(\"BoxPlot of Rainfall (mm/day) across Australia\");\n",
    "plt.xlabel(\"Rain (mm/day)\");"
   ]
  },
  {
   "cell_type": "markdown",
   "id": "provincial-robinson",
   "metadata": {},
   "source": [
    "##### Observations:\n",
    "\n",
    "|                            | Peak Memory | CPU Time | Wall Time |\n",
    "|:--------------------------:|:-----------:|:--------:|:---------:|\n",
    "| Pandas DataFrame `float64` |  5824.61 MB           | 2.98s         |   3.66s        |\n",
    "| Pandas DataFrame `float32` |  5213.86 MB           |  2.28s        |   2.75s        |\n",
    "|  Dask DataFrame `float32`  |  6539.55 MB           |  6min 16s        |  2min 3s         |\n",
    "\n",
    "\n",
    "When creating boxplots using `sns.boxplot`:\n",
    "- The Peak Memory consumed is lower when using the Pandas DataFrame with `float32` numeric columns when compared with using the Pandas DataFrame with `float64` numeric columns\n",
    "- The CPU and Wall Times are also lower when using the Pandas DataFrame with `float32` numeric columns when compared with using the Pandas DataFrame with `float64` numeric columns\n",
    "- Interestingly, the Dask DataFrame with `float32` numeric columns consumes the most amount of Peak Memory and also has much higher CPU and Wall times when compared with the Panadas DataFrames"
   ]
  },
  {
   "cell_type": "markdown",
   "id": "surrounded-cinema",
   "metadata": {},
   "source": [
    "## 4. R Approaches For Data Transfer"
   ]
  },
  {
   "cell_type": "markdown",
   "id": "durable-tracy",
   "metadata": {},
   "source": [
    "### 4.1.1 Create Data Structures"
   ]
  },
  {
   "cell_type": "markdown",
   "id": "normal-discharge",
   "metadata": {},
   "source": [
    "#### Create table:"
   ]
  },
  {
   "cell_type": "code",
   "execution_count": 25,
   "id": "unable-acoustic",
   "metadata": {},
   "outputs": [
    {
     "name": "stdout",
     "output_type": "stream",
     "text": [
      "peak memory: 6016.51 MiB, increment: 1642.31 MiB\n",
      "CPU times: user 18.1 s, sys: 9.76 s, total: 27.9 s\n",
      "Wall time: 24.8 s\n"
     ]
    }
   ],
   "source": [
    "%%time\n",
    "%%memit\n",
    "\n",
    "dataset = ds.dataset(\"figsharerainfall/combined_data.csv\", format=\"csv\")\n",
    "table = dataset.to_table()"
   ]
  },
  {
   "cell_type": "markdown",
   "id": "armed-agreement",
   "metadata": {},
   "source": [
    "#### Create Arrow Object:"
   ]
  },
  {
   "cell_type": "code",
   "execution_count": 26,
   "id": "beautiful-constraint",
   "metadata": {},
   "outputs": [
    {
     "name": "stdout",
     "output_type": "stream",
     "text": [
      "6709\n",
      "rarrow.ChunkedArray: 0.02955913543701172\n",
      "6709\n",
      "rarrow.ChunkedArray: 0.02226996421813965\n",
      "6709\n",
      "rarrow.ChunkedArray: 0.02238297462463379\n",
      "6709\n",
      "rarrow.ChunkedArray: 0.022083044052124023\n",
      "6709\n",
      "rarrow.ChunkedArray: 0.019528865814208984\n",
      "6709\n",
      "rarrow.ChunkedArray: 0.02158808708190918\n",
      "6709\n",
      "rarrow.ChunkedArray: 0.02579784393310547\n",
      "peak memory: 5059.82 MiB, increment: 254.54 MiB\n",
      "CPU times: user 25.1 s, sys: 770 ms, total: 25.9 s\n",
      "Wall time: 26.7 s\n"
     ]
    }
   ],
   "source": [
    "%%time\n",
    "%%memit\n",
    "## Here we are loading the arrow dataframe that we have loaded previously\n",
    "arrow_table = pyra.converter.py2rpy(table)"
   ]
  },
  {
   "cell_type": "markdown",
   "id": "speaking-recognition",
   "metadata": {},
   "source": [
    "#### Create Feather File:"
   ]
  },
  {
   "cell_type": "code",
   "execution_count": 27,
   "id": "oriental-battle",
   "metadata": {},
   "outputs": [
    {
     "name": "stdout",
     "output_type": "stream",
     "text": [
      "CPU times: user 4.21 s, sys: 11.2 s, total: 15.4 s\n",
      "Wall time: 5.76 s\n"
     ]
    }
   ],
   "source": [
    "%%time\n",
    "feather.write_feather(table, 'figsharerainfall/combined_data.feather')"
   ]
  },
  {
   "cell_type": "code",
   "execution_count": 28,
   "id": "mediterranean-ottawa",
   "metadata": {},
   "outputs": [
    {
     "name": "stdout",
     "output_type": "stream",
     "text": [
      "1.0G\tfigsharerainfall/combined_data.feather\n"
     ]
    }
   ],
   "source": [
    "%%sh\n",
    "du -sh figsharerainfall/combined_data.feather"
   ]
  },
  {
   "cell_type": "markdown",
   "id": "adopted-addiction",
   "metadata": {},
   "source": [
    "#### Create Parquet File:"
   ]
  },
  {
   "cell_type": "code",
   "execution_count": 29,
   "id": "honest-stick",
   "metadata": {},
   "outputs": [
    {
     "name": "stdout",
     "output_type": "stream",
     "text": [
      "CPU times: user 9.92 s, sys: 691 ms, total: 10.6 s\n",
      "Wall time: 10.7 s\n"
     ]
    }
   ],
   "source": [
    "%%time \n",
    "pq.write_table(table, 'figsharerainfall/combined_data.parquet')"
   ]
  },
  {
   "cell_type": "code",
   "execution_count": 30,
   "id": "rational-registration",
   "metadata": {},
   "outputs": [
    {
     "name": "stdout",
     "output_type": "stream",
     "text": [
      "544M\tfigsharerainfall/combined_data.parquet\n"
     ]
    }
   ],
   "source": [
    "%%sh\n",
    "du -sh figsharerainfall/combined_data.parquet"
   ]
  },
  {
   "cell_type": "markdown",
   "id": "moved-memorabilia",
   "metadata": {},
   "source": [
    "|                            | Disk Usage | \n",
    "|:--------------------------:|:-----------:|\n",
    "| `combined_data.csv` |  6.6G          |\n",
    "| `combined_data.feather` |  1.0G          |\n",
    "|  `combined_data.parquet`  |  544M        |"
   ]
  },
  {
   "cell_type": "markdown",
   "id": "undefined-grave",
   "metadata": {},
   "source": [
    "### 4.1.2 Transfer File Structure to R"
   ]
  },
  {
   "cell_type": "markdown",
   "id": "animal-dividend",
   "metadata": {},
   "source": [
    "#### Using Arrow Object:"
   ]
  },
  {
   "cell_type": "code",
   "execution_count": 31,
   "id": "following-video",
   "metadata": {},
   "outputs": [
    {
     "name": "stdout",
     "output_type": "stream",
     "text": [
      "Classes 'Table', 'ArrowObject', 'R6' <Table>\n",
      "  Inherits from: <ArrowObject>\n",
      "  Public:\n",
      "    .:xp:.: externalptr\n",
      "    AddColumn: function (i, new_field, value) \n",
      "    cast: function (target_schema, safe = TRUE, options = cast_options(safe)) \n",
      "    clone: function (deep = FALSE) \n",
      "    column: function (i) \n",
      "    ColumnNames: function () \n",
      "    columns: active binding\n",
      "    Equals: function (other, check_metadata = FALSE, ...) \n",
      "    field: function (i) \n",
      "    Filter: function (i, keep_na = TRUE) \n",
      "    GetColumnByName: function (name) \n",
      "    initialize: function (xp) \n",
      "    invalidate: function () \n",
      "    metadata: active binding\n",
      "    num_columns: active binding\n",
      "    num_rows: active binding\n",
      "    pointer: function () \n",
      "    print: function (...) \n",
      "    RemoveColumn: function (i) \n",
      "    RenameColumns: function (value) \n",
      "    schema: active binding\n",
      "    SelectColumns: function (indices) \n",
      "    serialize: function (output_stream, ...) \n",
      "    set_pointer: function (xp) \n",
      "    SetColumn: function (i, new_field, value) \n",
      "    Slice: function (offset, length = NULL) \n",
      "    Take: function (i) \n",
      "    ToString: function () \n",
      "    Validate: function () \n",
      "    ValidateFull: function ()  \n",
      "[1] \"Table\"       \"ArrowObject\" \"R6\"         \n",
      "Table\n",
      "6 rows x 7 columns\n",
      "$time <timestamp[s]>\n",
      "$lat_min <double>\n",
      "$lat_max <double>\n",
      "$lon_min <double>\n",
      "$lon_max <double>\n",
      "$rain (mm/day) <double>\n",
      "$model <string>\n",
      "Table\n",
      "62513863 rows x 7 columns\n",
      "$time <timestamp[s]>\n",
      "$lat_min <double>\n",
      "$lat_max <double>\n",
      "$lon_min <double>\n",
      "$lon_max <double>\n",
      "$rain (mm/day) <double>\n",
      "$model <string>\n",
      "\u001b[90m# A tibble: 28 x 2\u001b[39m\n",
      "   model                                   n\n",
      "   \u001b[3m\u001b[90m<chr>\u001b[39m\u001b[23m                               \u001b[3m\u001b[90m<int>\u001b[39m\u001b[23m\n",
      "\u001b[90m 1\u001b[39m figsharerainfall/ACCESS-CM2       1\u001b[4m9\u001b[24m\u001b[4m3\u001b[24m\u001b[4m2\u001b[24m840\n",
      "\u001b[90m 2\u001b[39m figsharerainfall/ACCESS-ESM1-5    1\u001b[4m6\u001b[24m\u001b[4m1\u001b[24m\u001b[4m0\u001b[24m700\n",
      "\u001b[90m 3\u001b[39m figsharerainfall/AWI-ESM-1-1-LR    \u001b[4m9\u001b[24m\u001b[4m6\u001b[24m\u001b[4m6\u001b[24m420\n",
      "\u001b[90m 4\u001b[39m figsharerainfall/BCC-CSM2-MR      3\u001b[4m0\u001b[24m\u001b[4m3\u001b[24m\u001b[4m5\u001b[24m340\n",
      "\u001b[90m 5\u001b[39m figsharerainfall/BCC-ESM1          \u001b[4m5\u001b[24m\u001b[4m5\u001b[24m\u001b[4m1\u001b[24m880\n",
      "\u001b[90m 6\u001b[39m figsharerainfall/CanESM5           \u001b[4m5\u001b[24m\u001b[4m5\u001b[24m\u001b[4m1\u001b[24m880\n",
      "\u001b[90m 7\u001b[39m figsharerainfall/CMCC-CM2-HR4     3\u001b[4m5\u001b[24m\u001b[4m4\u001b[24m\u001b[4m1\u001b[24m230\n",
      "\u001b[90m 8\u001b[39m figsharerainfall/CMCC-CM2-SR5     3\u001b[4m5\u001b[24m\u001b[4m4\u001b[24m\u001b[4m1\u001b[24m230\n",
      "\u001b[90m 9\u001b[39m figsharerainfall/CMCC-ESM2        3\u001b[4m5\u001b[24m\u001b[4m4\u001b[24m\u001b[4m1\u001b[24m230\n",
      "\u001b[90m10\u001b[39m figsharerainfall/EC-Earth3-Veg-LR 3\u001b[4m0\u001b[24m\u001b[4m3\u001b[24m\u001b[4m7\u001b[24m320\n",
      "\u001b[90m# … with 18 more rows\u001b[39m\n",
      "Time difference of 7.617143 secs\n",
      "CPU times: user 7.17 s, sys: 13 s, total: 20.1 s\n",
      "Wall time: 7.79 s\n"
     ]
    }
   ],
   "source": [
    "%%time\n",
    "%%R -i arrow_table\n",
    "start_time <- Sys.time()\n",
    "rview <- head(arrow_table)\n",
    "summary_df <- glimpse(arrow_table)\n",
    "model_count <- arrow_table %>% collect() %>% count(model)\n",
    "end_time <- Sys.time()\n",
    "print(class(arrow_table))\n",
    "print(rview)\n",
    "print(summary_df)\n",
    "print(model_count)\n",
    "print(end_time - start_time)"
   ]
  },
  {
   "cell_type": "markdown",
   "id": "linear-court",
   "metadata": {},
   "source": [
    "#### Using Feather File:"
   ]
  },
  {
   "cell_type": "code",
   "execution_count": 32,
   "id": "advisory-gothic",
   "metadata": {},
   "outputs": [
    {
     "name": "stdout",
     "output_type": "stream",
     "text": [
      "Rows: 62,513,863\n",
      "Columns: 7\n",
      "$ time            \u001b[3m\u001b[90m<dttm>\u001b[39m\u001b[23m 1889-01-01 17:21:10, 1889-01-02 17:21:10, 1889-01-03 …\n",
      "$ lat_min         \u001b[3m\u001b[90m<dbl>\u001b[39m\u001b[23m -35.43987, -35.43987, -35.43987, -35.43987, -35.43987,…\n",
      "$ lat_max         \u001b[3m\u001b[90m<dbl>\u001b[39m\u001b[23m -33.57462, -33.57462, -33.57462, -33.57462, -33.57462,…\n",
      "$ lon_min         \u001b[3m\u001b[90m<dbl>\u001b[39m\u001b[23m 141.5625, 141.5625, 141.5625, 141.5625, 141.5625, 141.…\n",
      "$ lon_max         \u001b[3m\u001b[90m<dbl>\u001b[39m\u001b[23m 143.4375, 143.4375, 143.4375, 143.4375, 143.4375, 143.…\n",
      "$ `rain (mm/day)` \u001b[3m\u001b[90m<dbl>\u001b[39m\u001b[23m 4.244226e-13, 4.217326e-13, 4.498125e-13, 4.251282e-13…\n",
      "$ model           \u001b[3m\u001b[90m<chr>\u001b[39m\u001b[23m \"figsharerainfall/MPI-ESM-1-2-HAM\", \"figsharerainfall/…\n",
      "[1] \"tbl_df\"     \"tbl\"        \"data.frame\"\n",
      "\u001b[90m# A tibble: 6 x 7\u001b[39m\n",
      "  time                lat_min lat_max lon_min lon_max `rain (mm/day)` model     \n",
      "  \u001b[3m\u001b[90m<dttm>\u001b[39m\u001b[23m                \u001b[3m\u001b[90m<dbl>\u001b[39m\u001b[23m   \u001b[3m\u001b[90m<dbl>\u001b[39m\u001b[23m   \u001b[3m\u001b[90m<dbl>\u001b[39m\u001b[23m   \u001b[3m\u001b[90m<dbl>\u001b[39m\u001b[23m           \u001b[3m\u001b[90m<dbl>\u001b[39m\u001b[23m \u001b[3m\u001b[90m<chr>\u001b[39m\u001b[23m     \n",
      "\u001b[90m1\u001b[39m 1889-01-01 \u001b[90m17:21:10\u001b[39m   -\u001b[31m35\u001b[39m\u001b[31m.\u001b[39m\u001b[31m4\u001b[39m   -\u001b[31m33\u001b[39m\u001b[31m.\u001b[39m\u001b[31m6\u001b[39m    142.    143.        4.24\u001b[90me\u001b[39m\u001b[31m-13\u001b[39m figsharer…\n",
      "\u001b[90m2\u001b[39m 1889-01-02 \u001b[90m17:21:10\u001b[39m   -\u001b[31m35\u001b[39m\u001b[31m.\u001b[39m\u001b[31m4\u001b[39m   -\u001b[31m33\u001b[39m\u001b[31m.\u001b[39m\u001b[31m6\u001b[39m    142.    143.        4.22\u001b[90me\u001b[39m\u001b[31m-13\u001b[39m figsharer…\n",
      "\u001b[90m3\u001b[39m 1889-01-03 \u001b[90m17:21:10\u001b[39m   -\u001b[31m35\u001b[39m\u001b[31m.\u001b[39m\u001b[31m4\u001b[39m   -\u001b[31m33\u001b[39m\u001b[31m.\u001b[39m\u001b[31m6\u001b[39m    142.    143.        4.50\u001b[90me\u001b[39m\u001b[31m-13\u001b[39m figsharer…\n",
      "\u001b[90m4\u001b[39m 1889-01-04 \u001b[90m17:21:10\u001b[39m   -\u001b[31m35\u001b[39m\u001b[31m.\u001b[39m\u001b[31m4\u001b[39m   -\u001b[31m33\u001b[39m\u001b[31m.\u001b[39m\u001b[31m6\u001b[39m    142.    143.        4.25\u001b[90me\u001b[39m\u001b[31m-13\u001b[39m figsharer…\n",
      "\u001b[90m5\u001b[39m 1889-01-05 \u001b[90m17:21:10\u001b[39m   -\u001b[31m35\u001b[39m\u001b[31m.\u001b[39m\u001b[31m4\u001b[39m   -\u001b[31m33\u001b[39m\u001b[31m.\u001b[39m\u001b[31m6\u001b[39m    142.    143.        4.27\u001b[90me\u001b[39m\u001b[31m-13\u001b[39m figsharer…\n",
      "\u001b[90m6\u001b[39m 1889-01-06 \u001b[90m17:21:10\u001b[39m   -\u001b[31m35\u001b[39m\u001b[31m.\u001b[39m\u001b[31m4\u001b[39m   -\u001b[31m33\u001b[39m\u001b[31m.\u001b[39m\u001b[31m6\u001b[39m    142.    143.        4.20\u001b[90me\u001b[39m\u001b[31m-13\u001b[39m figsharer…\n",
      "\u001b[90m# A tibble: 62,513,863 x 7\u001b[39m\n",
      "   time                lat_min lat_max lon_min lon_max `rain (mm/day)` model    \n",
      "   \u001b[3m\u001b[90m<dttm>\u001b[39m\u001b[23m                \u001b[3m\u001b[90m<dbl>\u001b[39m\u001b[23m   \u001b[3m\u001b[90m<dbl>\u001b[39m\u001b[23m   \u001b[3m\u001b[90m<dbl>\u001b[39m\u001b[23m   \u001b[3m\u001b[90m<dbl>\u001b[39m\u001b[23m           \u001b[3m\u001b[90m<dbl>\u001b[39m\u001b[23m \u001b[3m\u001b[90m<chr>\u001b[39m\u001b[23m    \n",
      "\u001b[90m 1\u001b[39m 1889-01-01 \u001b[90m17:21:10\u001b[39m   -\u001b[31m35\u001b[39m\u001b[31m.\u001b[39m\u001b[31m4\u001b[39m   -\u001b[31m33\u001b[39m\u001b[31m.\u001b[39m\u001b[31m6\u001b[39m    142.    143.        4.24\u001b[90me\u001b[39m\u001b[31m-13\u001b[39m figshare…\n",
      "\u001b[90m 2\u001b[39m 1889-01-02 \u001b[90m17:21:10\u001b[39m   -\u001b[31m35\u001b[39m\u001b[31m.\u001b[39m\u001b[31m4\u001b[39m   -\u001b[31m33\u001b[39m\u001b[31m.\u001b[39m\u001b[31m6\u001b[39m    142.    143.        4.22\u001b[90me\u001b[39m\u001b[31m-13\u001b[39m figshare…\n",
      "\u001b[90m 3\u001b[39m 1889-01-03 \u001b[90m17:21:10\u001b[39m   -\u001b[31m35\u001b[39m\u001b[31m.\u001b[39m\u001b[31m4\u001b[39m   -\u001b[31m33\u001b[39m\u001b[31m.\u001b[39m\u001b[31m6\u001b[39m    142.    143.        4.50\u001b[90me\u001b[39m\u001b[31m-13\u001b[39m figshare…\n",
      "\u001b[90m 4\u001b[39m 1889-01-04 \u001b[90m17:21:10\u001b[39m   -\u001b[31m35\u001b[39m\u001b[31m.\u001b[39m\u001b[31m4\u001b[39m   -\u001b[31m33\u001b[39m\u001b[31m.\u001b[39m\u001b[31m6\u001b[39m    142.    143.        4.25\u001b[90me\u001b[39m\u001b[31m-13\u001b[39m figshare…\n",
      "\u001b[90m 5\u001b[39m 1889-01-05 \u001b[90m17:21:10\u001b[39m   -\u001b[31m35\u001b[39m\u001b[31m.\u001b[39m\u001b[31m4\u001b[39m   -\u001b[31m33\u001b[39m\u001b[31m.\u001b[39m\u001b[31m6\u001b[39m    142.    143.        4.27\u001b[90me\u001b[39m\u001b[31m-13\u001b[39m figshare…\n",
      "\u001b[90m 6\u001b[39m 1889-01-06 \u001b[90m17:21:10\u001b[39m   -\u001b[31m35\u001b[39m\u001b[31m.\u001b[39m\u001b[31m4\u001b[39m   -\u001b[31m33\u001b[39m\u001b[31m.\u001b[39m\u001b[31m6\u001b[39m    142.    143.        4.20\u001b[90me\u001b[39m\u001b[31m-13\u001b[39m figshare…\n",
      "\u001b[90m 7\u001b[39m 1889-01-07 \u001b[90m17:21:10\u001b[39m   -\u001b[31m35\u001b[39m\u001b[31m.\u001b[39m\u001b[31m4\u001b[39m   -\u001b[31m33\u001b[39m\u001b[31m.\u001b[39m\u001b[31m6\u001b[39m    142.    143.        4.19\u001b[90me\u001b[39m\u001b[31m-13\u001b[39m figshare…\n",
      "\u001b[90m 8\u001b[39m 1889-01-08 \u001b[90m17:21:10\u001b[39m   -\u001b[31m35\u001b[39m\u001b[31m.\u001b[39m\u001b[31m4\u001b[39m   -\u001b[31m33\u001b[39m\u001b[31m.\u001b[39m\u001b[31m6\u001b[39m    142.    143.        4.56\u001b[90me\u001b[39m\u001b[31m-13\u001b[39m figshare…\n",
      "\u001b[90m 9\u001b[39m 1889-01-09 \u001b[90m17:21:10\u001b[39m   -\u001b[31m35\u001b[39m\u001b[31m.\u001b[39m\u001b[31m4\u001b[39m   -\u001b[31m33\u001b[39m\u001b[31m.\u001b[39m\u001b[31m6\u001b[39m    142.    143.        2.53\u001b[90me\u001b[39m+ 0 figshare…\n",
      "\u001b[90m10\u001b[39m 1889-01-10 \u001b[90m17:21:10\u001b[39m   -\u001b[31m35\u001b[39m\u001b[31m.\u001b[39m\u001b[31m4\u001b[39m   -\u001b[31m33\u001b[39m\u001b[31m.\u001b[39m\u001b[31m6\u001b[39m    142.    143.        4.12\u001b[90me\u001b[39m\u001b[31m- 2\u001b[39m figshare…\n",
      "\u001b[90m# … with 62,513,853 more rows\u001b[39m\n",
      "\u001b[90m# A tibble: 28 x 2\u001b[39m\n",
      "   model                                   n\n",
      "   \u001b[3m\u001b[90m<chr>\u001b[39m\u001b[23m                               \u001b[3m\u001b[90m<int>\u001b[39m\u001b[23m\n",
      "\u001b[90m 1\u001b[39m figsharerainfall/ACCESS-CM2       1\u001b[4m9\u001b[24m\u001b[4m3\u001b[24m\u001b[4m2\u001b[24m840\n",
      "\u001b[90m 2\u001b[39m figsharerainfall/ACCESS-ESM1-5    1\u001b[4m6\u001b[24m\u001b[4m1\u001b[24m\u001b[4m0\u001b[24m700\n",
      "\u001b[90m 3\u001b[39m figsharerainfall/AWI-ESM-1-1-LR    \u001b[4m9\u001b[24m\u001b[4m6\u001b[24m\u001b[4m6\u001b[24m420\n",
      "\u001b[90m 4\u001b[39m figsharerainfall/BCC-CSM2-MR      3\u001b[4m0\u001b[24m\u001b[4m3\u001b[24m\u001b[4m5\u001b[24m340\n",
      "\u001b[90m 5\u001b[39m figsharerainfall/BCC-ESM1          \u001b[4m5\u001b[24m\u001b[4m5\u001b[24m\u001b[4m1\u001b[24m880\n",
      "\u001b[90m 6\u001b[39m figsharerainfall/CanESM5           \u001b[4m5\u001b[24m\u001b[4m5\u001b[24m\u001b[4m1\u001b[24m880\n",
      "\u001b[90m 7\u001b[39m figsharerainfall/CMCC-CM2-HR4     3\u001b[4m5\u001b[24m\u001b[4m4\u001b[24m\u001b[4m1\u001b[24m230\n",
      "\u001b[90m 8\u001b[39m figsharerainfall/CMCC-CM2-SR5     3\u001b[4m5\u001b[24m\u001b[4m4\u001b[24m\u001b[4m1\u001b[24m230\n",
      "\u001b[90m 9\u001b[39m figsharerainfall/CMCC-ESM2        3\u001b[4m5\u001b[24m\u001b[4m4\u001b[24m\u001b[4m1\u001b[24m230\n",
      "\u001b[90m10\u001b[39m figsharerainfall/EC-Earth3-Veg-LR 3\u001b[4m0\u001b[24m\u001b[4m3\u001b[24m\u001b[4m7\u001b[24m320\n",
      "\u001b[90m# … with 18 more rows\u001b[39m\n",
      "Time difference of 22.245 secs\n",
      "CPU times: user 13.9 s, sys: 30.6 s, total: 44.5 s\n",
      "Wall time: 23.1 s\n"
     ]
    }
   ],
   "source": [
    "%%time\n",
    "%%R\n",
    "### her we are showing how much time it took to read a feather file what we wrote in python\n",
    "\n",
    "start_time <- Sys.time()\n",
    "r_table <- arrow::read_feather(\"figsharerainfall/combined_data.feather\")\n",
    "rview <- head(r_table)\n",
    "summary_df <- glimpse(r_table)\n",
    "model_count <- r_table %>% count(model)\n",
    "end_time <- Sys.time()\n",
    "print(class(r_table))\n",
    "print(rview)\n",
    "print(summary_df)\n",
    "print(model_count)\n",
    "print(end_time - start_time)"
   ]
  },
  {
   "cell_type": "markdown",
   "id": "reported-breach",
   "metadata": {},
   "source": [
    "#### Using Parquet File:"
   ]
  },
  {
   "cell_type": "code",
   "execution_count": 33,
   "id": "authorized-netscape",
   "metadata": {},
   "outputs": [
    {
     "name": "stdout",
     "output_type": "stream",
     "text": [
      "Rows: 62,513,863\n",
      "Columns: 7\n",
      "$ time            \u001b[3m\u001b[90m<dttm>\u001b[39m\u001b[23m 1889-01-01 17:21:10, 1889-01-02 17:21:10, 1889-01-03 …\n",
      "$ lat_min         \u001b[3m\u001b[90m<dbl>\u001b[39m\u001b[23m -35.43987, -35.43987, -35.43987, -35.43987, -35.43987,…\n",
      "$ lat_max         \u001b[3m\u001b[90m<dbl>\u001b[39m\u001b[23m -33.57462, -33.57462, -33.57462, -33.57462, -33.57462,…\n",
      "$ lon_min         \u001b[3m\u001b[90m<dbl>\u001b[39m\u001b[23m 141.5625, 141.5625, 141.5625, 141.5625, 141.5625, 141.…\n",
      "$ lon_max         \u001b[3m\u001b[90m<dbl>\u001b[39m\u001b[23m 143.4375, 143.4375, 143.4375, 143.4375, 143.4375, 143.…\n",
      "$ `rain (mm/day)` \u001b[3m\u001b[90m<dbl>\u001b[39m\u001b[23m 4.244226e-13, 4.217326e-13, 4.498125e-13, 4.251282e-13…\n",
      "$ model           \u001b[3m\u001b[90m<chr>\u001b[39m\u001b[23m \"figsharerainfall/MPI-ESM-1-2-HAM\", \"figsharerainfall/…\n",
      "[1] \"tbl_df\"     \"tbl\"        \"data.frame\"\n",
      "\u001b[90m# A tibble: 6 x 7\u001b[39m\n",
      "  time                lat_min lat_max lon_min lon_max `rain (mm/day)` model     \n",
      "  \u001b[3m\u001b[90m<dttm>\u001b[39m\u001b[23m                \u001b[3m\u001b[90m<dbl>\u001b[39m\u001b[23m   \u001b[3m\u001b[90m<dbl>\u001b[39m\u001b[23m   \u001b[3m\u001b[90m<dbl>\u001b[39m\u001b[23m   \u001b[3m\u001b[90m<dbl>\u001b[39m\u001b[23m           \u001b[3m\u001b[90m<dbl>\u001b[39m\u001b[23m \u001b[3m\u001b[90m<chr>\u001b[39m\u001b[23m     \n",
      "\u001b[90m1\u001b[39m 1889-01-01 \u001b[90m17:21:10\u001b[39m   -\u001b[31m35\u001b[39m\u001b[31m.\u001b[39m\u001b[31m4\u001b[39m   -\u001b[31m33\u001b[39m\u001b[31m.\u001b[39m\u001b[31m6\u001b[39m    142.    143.        4.24\u001b[90me\u001b[39m\u001b[31m-13\u001b[39m figsharer…\n",
      "\u001b[90m2\u001b[39m 1889-01-02 \u001b[90m17:21:10\u001b[39m   -\u001b[31m35\u001b[39m\u001b[31m.\u001b[39m\u001b[31m4\u001b[39m   -\u001b[31m33\u001b[39m\u001b[31m.\u001b[39m\u001b[31m6\u001b[39m    142.    143.        4.22\u001b[90me\u001b[39m\u001b[31m-13\u001b[39m figsharer…\n",
      "\u001b[90m3\u001b[39m 1889-01-03 \u001b[90m17:21:10\u001b[39m   -\u001b[31m35\u001b[39m\u001b[31m.\u001b[39m\u001b[31m4\u001b[39m   -\u001b[31m33\u001b[39m\u001b[31m.\u001b[39m\u001b[31m6\u001b[39m    142.    143.        4.50\u001b[90me\u001b[39m\u001b[31m-13\u001b[39m figsharer…\n",
      "\u001b[90m4\u001b[39m 1889-01-04 \u001b[90m17:21:10\u001b[39m   -\u001b[31m35\u001b[39m\u001b[31m.\u001b[39m\u001b[31m4\u001b[39m   -\u001b[31m33\u001b[39m\u001b[31m.\u001b[39m\u001b[31m6\u001b[39m    142.    143.        4.25\u001b[90me\u001b[39m\u001b[31m-13\u001b[39m figsharer…\n",
      "\u001b[90m5\u001b[39m 1889-01-05 \u001b[90m17:21:10\u001b[39m   -\u001b[31m35\u001b[39m\u001b[31m.\u001b[39m\u001b[31m4\u001b[39m   -\u001b[31m33\u001b[39m\u001b[31m.\u001b[39m\u001b[31m6\u001b[39m    142.    143.        4.27\u001b[90me\u001b[39m\u001b[31m-13\u001b[39m figsharer…\n",
      "\u001b[90m6\u001b[39m 1889-01-06 \u001b[90m17:21:10\u001b[39m   -\u001b[31m35\u001b[39m\u001b[31m.\u001b[39m\u001b[31m4\u001b[39m   -\u001b[31m33\u001b[39m\u001b[31m.\u001b[39m\u001b[31m6\u001b[39m    142.    143.        4.20\u001b[90me\u001b[39m\u001b[31m-13\u001b[39m figsharer…\n",
      "\u001b[90m# A tibble: 62,513,863 x 7\u001b[39m\n",
      "   time                lat_min lat_max lon_min lon_max `rain (mm/day)` model    \n",
      "   \u001b[3m\u001b[90m<dttm>\u001b[39m\u001b[23m                \u001b[3m\u001b[90m<dbl>\u001b[39m\u001b[23m   \u001b[3m\u001b[90m<dbl>\u001b[39m\u001b[23m   \u001b[3m\u001b[90m<dbl>\u001b[39m\u001b[23m   \u001b[3m\u001b[90m<dbl>\u001b[39m\u001b[23m           \u001b[3m\u001b[90m<dbl>\u001b[39m\u001b[23m \u001b[3m\u001b[90m<chr>\u001b[39m\u001b[23m    \n",
      "\u001b[90m 1\u001b[39m 1889-01-01 \u001b[90m17:21:10\u001b[39m   -\u001b[31m35\u001b[39m\u001b[31m.\u001b[39m\u001b[31m4\u001b[39m   -\u001b[31m33\u001b[39m\u001b[31m.\u001b[39m\u001b[31m6\u001b[39m    142.    143.        4.24\u001b[90me\u001b[39m\u001b[31m-13\u001b[39m figshare…\n",
      "\u001b[90m 2\u001b[39m 1889-01-02 \u001b[90m17:21:10\u001b[39m   -\u001b[31m35\u001b[39m\u001b[31m.\u001b[39m\u001b[31m4\u001b[39m   -\u001b[31m33\u001b[39m\u001b[31m.\u001b[39m\u001b[31m6\u001b[39m    142.    143.        4.22\u001b[90me\u001b[39m\u001b[31m-13\u001b[39m figshare…\n",
      "\u001b[90m 3\u001b[39m 1889-01-03 \u001b[90m17:21:10\u001b[39m   -\u001b[31m35\u001b[39m\u001b[31m.\u001b[39m\u001b[31m4\u001b[39m   -\u001b[31m33\u001b[39m\u001b[31m.\u001b[39m\u001b[31m6\u001b[39m    142.    143.        4.50\u001b[90me\u001b[39m\u001b[31m-13\u001b[39m figshare…\n",
      "\u001b[90m 4\u001b[39m 1889-01-04 \u001b[90m17:21:10\u001b[39m   -\u001b[31m35\u001b[39m\u001b[31m.\u001b[39m\u001b[31m4\u001b[39m   -\u001b[31m33\u001b[39m\u001b[31m.\u001b[39m\u001b[31m6\u001b[39m    142.    143.        4.25\u001b[90me\u001b[39m\u001b[31m-13\u001b[39m figshare…\n",
      "\u001b[90m 5\u001b[39m 1889-01-05 \u001b[90m17:21:10\u001b[39m   -\u001b[31m35\u001b[39m\u001b[31m.\u001b[39m\u001b[31m4\u001b[39m   -\u001b[31m33\u001b[39m\u001b[31m.\u001b[39m\u001b[31m6\u001b[39m    142.    143.        4.27\u001b[90me\u001b[39m\u001b[31m-13\u001b[39m figshare…\n",
      "\u001b[90m 6\u001b[39m 1889-01-06 \u001b[90m17:21:10\u001b[39m   -\u001b[31m35\u001b[39m\u001b[31m.\u001b[39m\u001b[31m4\u001b[39m   -\u001b[31m33\u001b[39m\u001b[31m.\u001b[39m\u001b[31m6\u001b[39m    142.    143.        4.20\u001b[90me\u001b[39m\u001b[31m-13\u001b[39m figshare…\n",
      "\u001b[90m 7\u001b[39m 1889-01-07 \u001b[90m17:21:10\u001b[39m   -\u001b[31m35\u001b[39m\u001b[31m.\u001b[39m\u001b[31m4\u001b[39m   -\u001b[31m33\u001b[39m\u001b[31m.\u001b[39m\u001b[31m6\u001b[39m    142.    143.        4.19\u001b[90me\u001b[39m\u001b[31m-13\u001b[39m figshare…\n",
      "\u001b[90m 8\u001b[39m 1889-01-08 \u001b[90m17:21:10\u001b[39m   -\u001b[31m35\u001b[39m\u001b[31m.\u001b[39m\u001b[31m4\u001b[39m   -\u001b[31m33\u001b[39m\u001b[31m.\u001b[39m\u001b[31m6\u001b[39m    142.    143.        4.56\u001b[90me\u001b[39m\u001b[31m-13\u001b[39m figshare…\n",
      "\u001b[90m 9\u001b[39m 1889-01-09 \u001b[90m17:21:10\u001b[39m   -\u001b[31m35\u001b[39m\u001b[31m.\u001b[39m\u001b[31m4\u001b[39m   -\u001b[31m33\u001b[39m\u001b[31m.\u001b[39m\u001b[31m6\u001b[39m    142.    143.        2.53\u001b[90me\u001b[39m+ 0 figshare…\n",
      "\u001b[90m10\u001b[39m 1889-01-10 \u001b[90m17:21:10\u001b[39m   -\u001b[31m35\u001b[39m\u001b[31m.\u001b[39m\u001b[31m4\u001b[39m   -\u001b[31m33\u001b[39m\u001b[31m.\u001b[39m\u001b[31m6\u001b[39m    142.    143.        4.12\u001b[90me\u001b[39m\u001b[31m- 2\u001b[39m figshare…\n",
      "\u001b[90m# … with 62,513,853 more rows\u001b[39m\n",
      "\u001b[90m# A tibble: 28 x 2\u001b[39m\n",
      "   model                                   n\n",
      "   \u001b[3m\u001b[90m<chr>\u001b[39m\u001b[23m                               \u001b[3m\u001b[90m<int>\u001b[39m\u001b[23m\n",
      "\u001b[90m 1\u001b[39m figsharerainfall/ACCESS-CM2       1\u001b[4m9\u001b[24m\u001b[4m3\u001b[24m\u001b[4m2\u001b[24m840\n",
      "\u001b[90m 2\u001b[39m figsharerainfall/ACCESS-ESM1-5    1\u001b[4m6\u001b[24m\u001b[4m1\u001b[24m\u001b[4m0\u001b[24m700\n",
      "\u001b[90m 3\u001b[39m figsharerainfall/AWI-ESM-1-1-LR    \u001b[4m9\u001b[24m\u001b[4m6\u001b[24m\u001b[4m6\u001b[24m420\n",
      "\u001b[90m 4\u001b[39m figsharerainfall/BCC-CSM2-MR      3\u001b[4m0\u001b[24m\u001b[4m3\u001b[24m\u001b[4m5\u001b[24m340\n",
      "\u001b[90m 5\u001b[39m figsharerainfall/BCC-ESM1          \u001b[4m5\u001b[24m\u001b[4m5\u001b[24m\u001b[4m1\u001b[24m880\n",
      "\u001b[90m 6\u001b[39m figsharerainfall/CanESM5           \u001b[4m5\u001b[24m\u001b[4m5\u001b[24m\u001b[4m1\u001b[24m880\n",
      "\u001b[90m 7\u001b[39m figsharerainfall/CMCC-CM2-HR4     3\u001b[4m5\u001b[24m\u001b[4m4\u001b[24m\u001b[4m1\u001b[24m230\n",
      "\u001b[90m 8\u001b[39m figsharerainfall/CMCC-CM2-SR5     3\u001b[4m5\u001b[24m\u001b[4m4\u001b[24m\u001b[4m1\u001b[24m230\n",
      "\u001b[90m 9\u001b[39m figsharerainfall/CMCC-ESM2        3\u001b[4m5\u001b[24m\u001b[4m4\u001b[24m\u001b[4m1\u001b[24m230\n",
      "\u001b[90m10\u001b[39m figsharerainfall/EC-Earth3-Veg-LR 3\u001b[4m0\u001b[24m\u001b[4m3\u001b[24m\u001b[4m7\u001b[24m320\n",
      "\u001b[90m# … with 18 more rows\u001b[39m\n",
      "Time difference of 12.16121 secs\n",
      "CPU times: user 12.4 s, sys: 7.92 s, total: 20.3 s\n",
      "Wall time: 13.4 s\n"
     ]
    }
   ],
   "source": [
    "%%time\n",
    "%%R\n",
    "start_time <- Sys.time()\n",
    "r_table <- arrow::read_parquet(\"figsharerainfall/combined_data.parquet\")\n",
    "view <- head(r_table)\n",
    "summary_df <- glimpse(r_table)\n",
    "model_count <- r_table %>% count(model)\n",
    "end_time <- Sys.time()\n",
    "print(class(r_table))\n",
    "print(view)\n",
    "print(summary_df)\n",
    "print(model_count)\n",
    "print(end_time - start_time)"
   ]
  },
  {
   "cell_type": "markdown",
   "id": "hindu-southeast",
   "metadata": {},
   "source": [
    "\n",
    "|                            | Emd Time - Start Time | CPU Time | Wall Time |\n",
    "|:--------------------------:|:-----------:|:--------:|:---------:|\n",
    "| Using Arrow Object |  7.617s          | 20.1s         |   7.79s        |\n",
    "| Using Feather File |  22.245s           |  44.5s        |   23.1s        |\n",
    "|  Using Parquet File  |  12.161s         |  20.3s        |  13.4s         |"
   ]
  },
  {
   "cell_type": "markdown",
   "id": "scientific-reflection",
   "metadata": {},
   "source": [
    "### 4.2 Observations"
   ]
  },
  {
   "cell_type": "markdown",
   "id": "assured-maryland",
   "metadata": {},
   "source": [
    "After comparing these 3 methods:\n",
    "\n",
    "- The time necessary to load in the data using the arrow object was very long, but once loaded, using the data was easy.\n",
    "\n",
    "- It should be noted that rpy2-arrow is still fairly new, there is a lot of potential for this method of conversion.\n",
    "\n",
    "- The columnar properties"
   ]
  },
  {
   "cell_type": "markdown",
   "id": "floating-member",
   "metadata": {},
   "source": [
    "We will pick parquet file format to transfer data from python to R. The reasons are listed as follows:"
   ]
  },
  {
   "cell_type": "markdown",
   "id": "experienced-despite",
   "metadata": {},
   "source": [
    "> 2- Using `feather` and `parquet` files compared to `csv` file, significantly improves both the time and memory usage.\n",
    "  \n",
    "> 3- Although the time usage for `parquet` is somewhat greater than that of `feather`, its memory usage is almost half of that for `feather`.\n",
    "  \n",
    "> 4- Loading the data in chunks results in reduced sys time and therefore the overall wall time is decreased."
   ]
  },
  {
   "cell_type": "code",
   "execution_count": null,
   "id": "lined-economy",
   "metadata": {},
   "outputs": [],
   "source": []
  }
 ],
 "metadata": {
  "kernelspec": {
   "display_name": "Python 3",
   "language": "python",
   "name": "python3"
  },
  "language_info": {
   "codemirror_mode": {
    "name": "ipython",
    "version": 3
   },
   "file_extension": ".py",
   "mimetype": "text/x-python",
   "name": "python",
   "nbconvert_exporter": "python",
   "pygments_lexer": "ipython3",
   "version": "3.8.8"
  }
 },
 "nbformat": 4,
 "nbformat_minor": 5
}
