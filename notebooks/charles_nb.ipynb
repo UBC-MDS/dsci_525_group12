{
 "cells": [
  {
   "cell_type": "code",
   "execution_count": 1,
   "id": "minor-annex",
   "metadata": {},
   "outputs": [],
   "source": [
    "import requests\n",
    "import json\n",
    "import os\n",
    "from urllib.request import urlretrieve\n",
    "import zipfile\n",
    "import glob\n",
    "import pandas as pd\n",
    "import re\n",
    "from memory_profiler import memory_usage\n",
    "import pyarrow.dataset as ds\n",
    "import pyarrow.feather as feather\n",
    "import pyarrow.parquet as pq\n",
    "import dask.dataframe as dd\n",
    "import seaborn as sns\n",
    "import matplotlib.pyplot as plt"
   ]
  },
  {
   "cell_type": "code",
   "execution_count": 2,
   "id": "invalid-rough",
   "metadata": {},
   "outputs": [],
   "source": [
    "%load_ext rpy2.ipython\n",
    "%load_ext memory_profiler"
   ]
  },
  {
   "cell_type": "markdown",
   "id": "afraid-islam",
   "metadata": {},
   "source": [
    "### Download and unzip the data"
   ]
  },
  {
   "cell_type": "code",
   "execution_count": 3,
   "id": "dress-married",
   "metadata": {},
   "outputs": [],
   "source": [
    "article_id = 14096681  # this is the unique identifier of the article on figshare\n",
    "url = f\"https://api.figshare.com/v2/articles/{article_id}\"\n",
    "headers = {\"Content-Type\": \"application/json\"}\n",
    "output_directory = \"figsharerainfall/\""
   ]
  },
  {
   "cell_type": "code",
   "execution_count": 4,
   "id": "oriented-colorado",
   "metadata": {
    "tags": []
   },
   "outputs": [
    {
     "name": "stdout",
     "output_type": "stream",
     "text": [
      "peak memory: 202.59 MiB, increment: 0.15 MiB\n",
      "CPU times: user 72.4 ms, sys: 39.7 ms, total: 112 ms\n",
      "Wall time: 3.16 s\n"
     ]
    },
    {
     "data": {
      "text/plain": [
       "[{'is_link_only': False,\n",
       "  'name': 'daily_rainfall_2014.png',\n",
       "  'supplied_md5': 'fd32a2ffde300a31f8d63b1825d47e5e',\n",
       "  'computed_md5': 'fd32a2ffde300a31f8d63b1825d47e5e',\n",
       "  'id': 26579150,\n",
       "  'download_url': 'https://ndownloader.figshare.com/files/26579150',\n",
       "  'size': 58863},\n",
       " {'is_link_only': False,\n",
       "  'name': 'environment.yml',\n",
       "  'supplied_md5': '060b2020017eed93a1ee7dd8c65b2f34',\n",
       "  'computed_md5': '060b2020017eed93a1ee7dd8c65b2f34',\n",
       "  'id': 26579171,\n",
       "  'download_url': 'https://ndownloader.figshare.com/files/26579171',\n",
       "  'size': 192},\n",
       " {'is_link_only': False,\n",
       "  'name': 'README.md',\n",
       "  'supplied_md5': '61858c6cc0e6a6d6663a7e4c75bbd88c',\n",
       "  'computed_md5': '61858c6cc0e6a6d6663a7e4c75bbd88c',\n",
       "  'id': 26586554,\n",
       "  'download_url': 'https://ndownloader.figshare.com/files/26586554',\n",
       "  'size': 5422},\n",
       " {'is_link_only': False,\n",
       "  'name': 'data.zip',\n",
       "  'supplied_md5': 'b517383f76e77bd03755a63a8ff83ee9',\n",
       "  'computed_md5': 'b517383f76e77bd03755a63a8ff83ee9',\n",
       "  'id': 26766812,\n",
       "  'download_url': 'https://ndownloader.figshare.com/files/26766812',\n",
       "  'size': 814041183},\n",
       " {'is_link_only': False,\n",
       "  'name': 'get_data.py',\n",
       "  'supplied_md5': '7829028495fd9dec9680ea013474afa6',\n",
       "  'computed_md5': '7829028495fd9dec9680ea013474afa6',\n",
       "  'id': 26766815,\n",
       "  'download_url': 'https://ndownloader.figshare.com/files/26766815',\n",
       "  'size': 4113}]"
      ]
     },
     "execution_count": 4,
     "metadata": {},
     "output_type": "execute_result"
    }
   ],
   "source": [
    "%%time\n",
    "%memit\n",
    "response = requests.request(\"GET\", url, headers=headers)\n",
    "data = json.loads(response.text)  # this contains all the articles data, feel free to check it out\n",
    "files = data[\"files\"]             # this is just the data about the files, which is what we want\n",
    "files"
   ]
  },
  {
   "cell_type": "code",
   "execution_count": 5,
   "id": "stupid-dealing",
   "metadata": {},
   "outputs": [
    {
     "name": "stdout",
     "output_type": "stream",
     "text": [
      "peak memory: 204.73 MiB, increment: 0.06 MiB\n",
      "CPU times: user 2.26 s, sys: 1.91 s, total: 4.17 s\n",
      "Wall time: 1min\n"
     ]
    }
   ],
   "source": [
    "%%time\n",
    "%memit\n",
    "files_to_dl = [\"data.zip\"] \n",
    "for file in files:\n",
    "    if file[\"name\"] in files_to_dl:\n",
    "        os.makedirs(output_directory, exist_ok=True)\n",
    "        urlretrieve(file[\"download_url\"], output_directory + file[\"name\"])"
   ]
  },
  {
   "cell_type": "code",
   "execution_count": 6,
   "id": "secret-third",
   "metadata": {},
   "outputs": [
    {
     "name": "stdout",
     "output_type": "stream",
     "text": [
      "peak memory: 205.74 MiB, increment: 0.00 MiB\n",
      "CPU times: user 14.1 s, sys: 2.11 s, total: 16.2 s\n",
      "Wall time: 18.5 s\n"
     ]
    }
   ],
   "source": [
    "%%time\n",
    "%memit\n",
    "with zipfile.ZipFile(os.path.join(output_directory, \"data.zip\"), 'r') as f:\n",
    "    f.extractall(output_directory)"
   ]
  },
  {
   "cell_type": "markdown",
   "id": "velvet-capital",
   "metadata": {},
   "source": [
    "### Combining data CSVs"
   ]
  },
  {
   "cell_type": "code",
   "execution_count": 7,
   "id": "starting-fifty",
   "metadata": {},
   "outputs": [
    {
     "name": "stdout",
     "output_type": "stream",
     "text": [
      "peak memory: 206.42 MiB, increment: 0.00 MiB\n",
      "CPU times: user 5min 2s, sys: 11.1 s, total: 5min 13s\n",
      "Wall time: 5min 16s\n"
     ]
    }
   ],
   "source": [
    "%%time\n",
    "%memit\n",
    "\n",
    "files = glob.glob('figsharerainfall/*.csv')\n",
    "\n",
    "df = pd.concat((pd.read_csv(file, header=0, index_col=0)\n",
    "                .assign(model=re.search(r'/(.*)_d', file)[1])\n",
    "                for file in files))\n",
    "\n",
    "df.to_csv(\"figsharerainfall/combined_data.csv\")"
   ]
  },
  {
   "cell_type": "markdown",
   "id": "varying-asian",
   "metadata": {},
   "source": [
    "### Load the combined CSV to memory"
   ]
  },
  {
   "cell_type": "code",
   "execution_count": 8,
   "id": "unique-eleven",
   "metadata": {},
   "outputs": [
    {
     "name": "stdout",
     "output_type": "stream",
     "text": [
      "peak memory: 9127.97 MiB, increment: 5474.65 MiB\n",
      "CPU times: user 49.7 s, sys: 9.57 s, total: 59.3 s\n",
      "Wall time: 1min 1s\n"
     ]
    }
   ],
   "source": [
    "%%time\n",
    "%%memit\n",
    "df_float64 = pd.read_csv(\"figsharerainfall/combined_data.csv\")"
   ]
  },
  {
   "cell_type": "markdown",
   "id": "special-central",
   "metadata": {},
   "source": [
    "#### Changing `dtype` of data"
   ]
  },
  {
   "cell_type": "code",
   "execution_count": 9,
   "id": "accurate-method",
   "metadata": {},
   "outputs": [],
   "source": [
    "df_float32 = df.astype('float32', errors='ignore')"
   ]
  },
  {
   "cell_type": "code",
   "execution_count": 10,
   "id": "permanent-keyboard",
   "metadata": {},
   "outputs": [
    {
     "name": "stdout",
     "output_type": "stream",
     "text": [
      "Memory usage with float64: 3500.78 MB\n",
      "Memory usage with float32: 2250.50 MB\n"
     ]
    }
   ],
   "source": [
    "print(f\"Memory usage with float64: {df_float64.memory_usage().sum() / 1e6:.2f} MB\")\n",
    "print(f\"Memory usage with float32: {df_float32.memory_usage().sum() / 1e6:.2f} MB\")"
   ]
  },
  {
   "cell_type": "markdown",
   "id": "crazy-acquisition",
   "metadata": {},
   "source": [
    "#### Using Dask"
   ]
  },
  {
   "cell_type": "code",
   "execution_count": 11,
   "id": "connected-choice",
   "metadata": {},
   "outputs": [
    {
     "name": "stdout",
     "output_type": "stream",
     "text": [
      "peak memory: 8455.70 MiB, increment: -18.40 MiB\n",
      "CPU times: user 103 ms, sys: 185 ms, total: 288 ms\n",
      "Wall time: 1.58 s\n"
     ]
    }
   ],
   "source": [
    "%%time\n",
    "%%memit\n",
    "ddf = dd.read_csv('figsharerainfall/combined_data.csv', blocksize=25e6)"
   ]
  },
  {
   "cell_type": "code",
   "execution_count": 12,
   "id": "prime-combat",
   "metadata": {},
   "outputs": [],
   "source": [
    "cols = ['lat_min', 'lat_max', 'lon_min', 'lon_max', 'rain (mm/day)']\n",
    "ddf[cols] = ddf[cols].astype('float32')"
   ]
  },
  {
   "cell_type": "markdown",
   "id": "inner-minneapolis",
   "metadata": {},
   "source": [
    "## EDA"
   ]
  },
  {
   "cell_type": "markdown",
   "id": "computational-printing",
   "metadata": {},
   "source": [
    "### Value Counts of `model`:"
   ]
  },
  {
   "cell_type": "markdown",
   "id": "elder-designer",
   "metadata": {},
   "source": [
    "#### Pandas DataFrame:"
   ]
  },
  {
   "cell_type": "code",
   "execution_count": 13,
   "id": "offshore-publicity",
   "metadata": {},
   "outputs": [
    {
     "name": "stdout",
     "output_type": "stream",
     "text": [
      "model           \n",
      "MPI-ESM1-2-HR       5154240\n",
      "TaiESM1             3541230\n",
      "CMCC-CM2-HR4        3541230\n",
      "CMCC-CM2-SR5        3541230\n",
      "CMCC-ESM2           3541230\n",
      "NorESM2-MM          3541230\n",
      "SAM0-UNICON         3541153\n",
      "FGOALS-f3-L         3219300\n",
      "GFDL-CM4            3219300\n",
      "GFDL-ESM4           3219300\n",
      "EC-Earth3-Veg-LR    3037320\n",
      "MRI-ESM2-0          3037320\n",
      "BCC-CSM2-MR         3035340\n",
      "MIROC6              2070900\n",
      "ACCESS-CM2          1932840\n",
      "ACCESS-ESM1-5       1610700\n",
      "INM-CM4-8           1609650\n",
      "INM-CM5-0           1609650\n",
      "KIOST-ESM           1287720\n",
      "FGOALS-g3           1287720\n",
      "MPI-ESM-1-2-HAM      966420\n",
      "MPI-ESM1-2-LR        966420\n",
      "NESM3                966420\n",
      "AWI-ESM-1-1-LR       966420\n",
      "NorESM2-LM           919800\n",
      "CanESM5              551880\n",
      "BCC-ESM1             551880\n",
      "observed              46020\n",
      "dtype: int64\n",
      "peak memory: 8455.50 MiB, increment: 0.01 MiB\n",
      "CPU times: user 4.54 s, sys: 2.23 s, total: 6.77 s\n",
      "Wall time: 7.58 s\n"
     ]
    }
   ],
   "source": [
    "%%time\n",
    "%%memit\n",
    "print(df_float32[[\"model\"]].value_counts())"
   ]
  },
  {
   "cell_type": "markdown",
   "id": "monetary-title",
   "metadata": {},
   "source": [
    "#### Dask DataFrame:"
   ]
  },
  {
   "cell_type": "code",
   "execution_count": 14,
   "id": "educated-editing",
   "metadata": {},
   "outputs": [
    {
     "name": "stdout",
     "output_type": "stream",
     "text": [
      "MPI-ESM1-2-HR       5154240\n",
      "TaiESM1             3541230\n",
      "CMCC-CM2-HR4        3541230\n",
      "CMCC-CM2-SR5        3541230\n",
      "CMCC-ESM2           3541230\n",
      "NorESM2-MM          3541230\n",
      "SAM0-UNICON         3541153\n",
      "FGOALS-f3-L         3219300\n",
      "GFDL-CM4            3219300\n",
      "GFDL-ESM4           3219300\n",
      "EC-Earth3-Veg-LR    3037320\n",
      "MRI-ESM2-0          3037320\n",
      "BCC-CSM2-MR         3035340\n",
      "MIROC6              2070900\n",
      "ACCESS-CM2          1932840\n",
      "ACCESS-ESM1-5       1610700\n",
      "INM-CM4-8           1609650\n",
      "INM-CM5-0           1609650\n",
      "KIOST-ESM           1287720\n",
      "FGOALS-g3           1287720\n",
      "MPI-ESM-1-2-HAM      966420\n",
      "MPI-ESM1-2-LR        966420\n",
      "NESM3                966420\n",
      "AWI-ESM-1-1-LR       966420\n",
      "NorESM2-LM           919800\n",
      "CanESM5              551880\n",
      "BCC-ESM1             551880\n",
      "observed              46020\n",
      "Name: model, dtype: int64\n",
      "peak memory: 7997.93 MiB, increment: 1130.60 MiB\n",
      "CPU times: user 1min 26s, sys: 25.5 s, total: 1min 52s\n",
      "Wall time: 40.3 s\n"
     ]
    }
   ],
   "source": [
    "%%time\n",
    "%%memit\n",
    "print(ddf[\"model\"].value_counts().compute())"
   ]
  },
  {
   "cell_type": "markdown",
   "id": "faced-resolution",
   "metadata": {},
   "source": [
    "#### Observations:\n",
    "\n",
    "|                  | Peak Memory | CPU Time | Wall Time |\n",
    "|:----------------:|:-----------:|:--------:|:---------:|\n",
    "| Pandas DataFrame |8455.50 MB  |  6.77s     |   7.58s        |\n",
    "|  Dask DataFrame  | 7997.93 MB |1min 53s     | 40s          |\n",
    "\n",
    "When calling `value_counts` function:\n",
    "- By using Dask DataFrame over Pandas DataFrame, we see that the peak memory drops by a considerable amount\n",
    "- However, the CPU and Wall Times are quite a bit higher when using Dask DataFrame over Pandas DataFrame"
   ]
  },
  {
   "cell_type": "markdown",
   "id": "minus-cradle",
   "metadata": {},
   "source": [
    "### Summary statistics of Rainfall (mm/day) across Australia:"
   ]
  },
  {
   "cell_type": "markdown",
   "id": "invalid-cooler",
   "metadata": {},
   "source": [
    "#### Pandas DataFrame `float64`:"
   ]
  },
  {
   "cell_type": "code",
   "execution_count": 15,
   "id": "indian-failure",
   "metadata": {},
   "outputs": [
    {
     "name": "stdout",
     "output_type": "stream",
     "text": [
      "       rain (mm/day)\n",
      "count   5.929456e+07\n",
      "mean    1.901827e+00\n",
      "std     5.588275e+00\n",
      "min    -3.807373e-12\n",
      "25%     3.876672e-06\n",
      "50%     6.161705e-02\n",
      "75%     1.021314e+00\n",
      "max     4.329395e+02\n",
      "peak memory: 7312.34 MiB, increment: 2292.99 MiB\n",
      "CPU times: user 3.63 s, sys: 2.54 s, total: 6.18 s\n",
      "Wall time: 7.4 s\n"
     ]
    }
   ],
   "source": [
    "%%time\n",
    "%%memit\n",
    "print(df_float64[['rain (mm/day)']].describe())"
   ]
  },
  {
   "cell_type": "markdown",
   "id": "elementary-speaking",
   "metadata": {},
   "source": [
    "#### Pandas DataFrame `float32`:"
   ]
  },
  {
   "cell_type": "code",
   "execution_count": 16,
   "id": "operating-humanity",
   "metadata": {},
   "outputs": [
    {
     "name": "stdout",
     "output_type": "stream",
     "text": [
      "       rain (mm/day)\n",
      "count   5.929456e+07\n",
      "mean    1.901828e+00\n",
      "std     5.588274e+00\n",
      "min    -3.807373e-12\n",
      "25%     3.876672e-06\n",
      "50%     6.161705e-02\n",
      "75%     1.021314e+00\n",
      "max     4.329395e+02\n",
      "peak memory: 6648.28 MiB, increment: 1428.35 MiB\n",
      "CPU times: user 2.55 s, sys: 958 ms, total: 3.51 s\n",
      "Wall time: 4.13 s\n"
     ]
    }
   ],
   "source": [
    "%%time\n",
    "%%memit\n",
    "print(df_float32[['rain (mm/day)']].describe())"
   ]
  },
  {
   "cell_type": "markdown",
   "id": "remarkable-muscle",
   "metadata": {},
   "source": [
    "#### Dask DataFrame `float32`:"
   ]
  },
  {
   "cell_type": "code",
   "execution_count": 17,
   "id": "following-mentor",
   "metadata": {},
   "outputs": [
    {
     "name": "stdout",
     "output_type": "stream",
     "text": [
      "       rain (mm/day)\n",
      "count   5.929456e+07\n",
      "mean    1.901827e+00\n",
      "std     5.588275e+00\n",
      "min    -3.807373e-12\n",
      "25%     5.371856e-03\n",
      "50%     3.320863e-01\n",
      "75%     3.030826e+00\n",
      "max     4.329395e+02\n",
      "peak memory: 6823.99 MiB, increment: 1368.04 MiB\n",
      "CPU times: user 1min 34s, sys: 33.7 s, total: 2min 8s\n",
      "Wall time: 40.4 s\n"
     ]
    }
   ],
   "source": [
    "%%time\n",
    "%%memit\n",
    "print(ddf[['rain (mm/day)']].describe().compute())"
   ]
  },
  {
   "cell_type": "markdown",
   "id": "worthy-story",
   "metadata": {},
   "source": [
    "#### Observations:\n",
    "\n",
    "|                            | Peak Memory | CPU Time | Wall Time |\n",
    "|:--------------------------:|:-----------:|:--------:|:---------:|\n",
    "| Pandas DataFrame `float64` |  7312.34 MB           | 6.18s         |  7.4s         |\n",
    "| Pandas DataFrame `float32` |  6648.28 MB           |   3.51s       | 4.13s          |\n",
    "|  Dask DataFrame `float32`  |   6823.99 MB          |   2min 8s      |  40.4s         |\n",
    "\n",
    "When calling the `describe` function:\n",
    "- The Peak Memory consumed is drops when using the Pandas DataFrame with `float32` numeric columns over the Pandas DataFrame with `float64` numeric columns\n",
    "- The CPU and Wall Times also drop when switching from the Pandas DataFrame with `float64` to the Pandas DataFrame with `float32` numeric columns\n",
    "- Interestingly, when compared with the Pandas DataFrame with `float32` numeric columns, the Dask DataFrame with `float32` numeric columns consumes more Peak Memory, and also has much higher CPU and Wall Times"
   ]
  },
  {
   "cell_type": "markdown",
   "id": "assigned-bleeding",
   "metadata": {},
   "source": [
    "### BoxPlot of Rainfall (mm/day) across Australia"
   ]
  },
  {
   "cell_type": "code",
   "execution_count": 18,
   "id": "associate-brown",
   "metadata": {},
   "outputs": [],
   "source": [
    "sns.set_theme(style=\"whitegrid\")\n",
    "sns.set(rc={\"figure.figsize\": (15, 7.5)}, font_scale=1.25)"
   ]
  },
  {
   "cell_type": "markdown",
   "id": "incorrect-joshua",
   "metadata": {},
   "source": [
    "#### Pandas DataFrame `float64`:"
   ]
  },
  {
   "cell_type": "code",
   "execution_count": 19,
   "id": "military-motorcycle",
   "metadata": {},
   "outputs": [
    {
     "name": "stdout",
     "output_type": "stream",
     "text": [
      "peak memory: 6133.25 MiB, increment: 1457.97 MiB\n",
      "CPU times: user 2.36 s, sys: 644 ms, total: 3 s\n",
      "Wall time: 3.65 s\n"
     ]
    },
    {
     "data": {
      "image/png": "[encoded data removed]",
      "text/plain": [
       "<Figure size 1080x540 with 1 Axes>"
      ]
     },
     "metadata": {},
     "output_type": "display_data"
    }
   ],
   "source": [
    "%%time\n",
    "%%memit\n",
    "sns.boxplot(x=df_float64['rain (mm/day)'], showfliers=False);\n",
    "plt.title(\"BoxPlot of Rainfall (mm/day) across Australia\");\n",
    "plt.xlabel(\"Rain (mm/day)\");"
   ]
  },
  {
   "cell_type": "markdown",
   "id": "welcome-notice",
   "metadata": {},
   "source": [
    "#### Pandas DataFrame `float32`:"
   ]
  },
  {
   "cell_type": "code",
   "execution_count": 20,
   "id": "seven-vessel",
   "metadata": {},
   "outputs": [
    {
     "name": "stdout",
     "output_type": "stream",
     "text": [
      "peak memory: 5527.03 MiB, increment: 643.94 MiB\n",
      "CPU times: user 1.85 s, sys: 333 ms, total: 2.19 s\n",
      "Wall time: 2.62 s\n"
     ]
    },
    {
     "data": {
      "image/png": "[encoded data removed]",
      "text/plain": [
       "<Figure size 1080x540 with 1 Axes>"
      ]
     },
     "metadata": {},
     "output_type": "display_data"
    }
   ],
   "source": [
    "%%time\n",
    "%%memit\n",
    "sns.boxplot(x=df_float32['rain (mm/day)'], showfliers=False);\n",
    "plt.title(\"BoxPlot of Rainfall (mm/day) across Australia\");\n",
    "plt.xlabel(\"Rain (mm/day)\");"
   ]
  },
  {
   "cell_type": "markdown",
   "id": "norwegian-locking",
   "metadata": {},
   "source": [
    "#### Dask DataFrame `float32`:"
   ]
  },
  {
   "cell_type": "code",
   "execution_count": 21,
   "id": "irish-twins",
   "metadata": {},
   "outputs": [
    {
     "name": "stdout",
     "output_type": "stream",
     "text": [
      "peak memory: 6617.09 MiB, increment: 1805.34 MiB\n",
      "CPU times: user 4min 22s, sys: 1min 22s, total: 5min 45s\n",
      "Wall time: 1min 53s\n"
     ]
    },
    {
     "data": {
      "image/png": "[encoded data removed]",
      "text/plain": [
       "<Figure size 1080x540 with 1 Axes>"
      ]
     },
     "metadata": {},
     "output_type": "display_data"
    }
   ],
   "source": [
    "%%time\n",
    "%%memit\n",
    "sns.boxplot(x=ddf['rain (mm/day)'], showfliers=False);\n",
    "plt.title(\"BoxPlot of Rainfall (mm/day) across Australia\");\n",
    "plt.xlabel(\"Rain (mm/day)\");"
   ]
  },
  {
   "cell_type": "markdown",
   "id": "solar-pharmaceutical",
   "metadata": {},
   "source": [
    "#### Observations:\n",
    "\n",
    "|                            | Peak Memory | CPU Time | Wall Time |\n",
    "|:--------------------------:|:-----------:|:--------:|:---------:|\n",
    "| Pandas DataFrame `float64` |  6133.25 MB           | 3s         |   3.65s        |\n",
    "| Pandas DataFrame `float32` |  5527.03 MB           |  2.19s        |   2.62s        |\n",
    "|  Dask DataFrame `float32`  |  6617.09 MB           |  5min 45s        |  1min 53s         |\n",
    "\n",
    "\n",
    "When creating boxplots using `sns.boxplot`:\n",
    "- The Peak Memory consumed is lower when using the Pandas DataFrame with `float32` numeric columns when compared with using the Pandas DataFrame with `float64` numeric columns\n",
    "- The CPU and Wall Times are also lower when using the Pandas DataFrame with `float32` numeric columns when compared with using the Pandas DataFrame with `float64` numeric columns\n",
    "- Interestingly, the Dask DataFrame with `float32` numeric columns consumes the most amount of Peak Memory and also has much higher CPU and Wall times when compared with the Panadas DataFrames"
   ]
  },
  {
   "cell_type": "code",
   "execution_count": null,
   "id": "fantastic-winner",
   "metadata": {},
   "outputs": [],
   "source": []
  }
 ],
 "metadata": {
  "kernelspec": {
   "display_name": "Python 3",
   "language": "python",
   "name": "python3"
  },
  "language_info": {
   "codemirror_mode": {
    "name": "ipython",
    "version": 3
   },
   "file_extension": ".py",
   "mimetype": "text/x-python",
   "name": "python",
   "nbconvert_exporter": "python",
   "pygments_lexer": "ipython3",
   "version": "3.8.8"
  }
 },
 "nbformat": 4,
 "nbformat_minor": 5
}
